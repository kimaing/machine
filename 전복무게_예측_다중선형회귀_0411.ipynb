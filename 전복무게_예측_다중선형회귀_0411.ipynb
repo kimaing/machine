{
  "nbformat": 4,
  "nbformat_minor": 0,
  "metadata": {
    "colab": {
      "provenance": [],
      "include_colab_link": true
    },
    "kernelspec": {
      "name": "python3",
      "display_name": "Python 3"
    },
    "language_info": {
      "name": "python"
    }
  },
  "cells": [
    {
      "cell_type": "markdown",
      "metadata": {
        "id": "view-in-github",
        "colab_type": "text"
      },
      "source": [
        "<a href=\"https://colab.research.google.com/github/kimaing/machine/blob/main/%EC%A0%84%EB%B3%B5%EB%AC%B4%EA%B2%8C_%EC%98%88%EC%B8%A1_%EB%8B%A4%EC%A4%91%EC%84%A0%ED%98%95%ED%9A%8C%EA%B7%80_0411.ipynb\" target=\"_parent\"><img src=\"https://colab.research.google.com/assets/colab-badge.svg\" alt=\"Open In Colab\"/></a>"
      ]
    },
    {
      "cell_type": "markdown",
      "source": [
        "# 전복 순살 무게 예측\n",
        "- https://www.kaggle.com/datasets/rodolfomendes/abalone-dataset?resource=download&select=abalone.csv"
      ],
      "metadata": {
        "id": "o23oWMqj7G4v"
      }
    },
    {
      "cell_type": "markdown",
      "source": [
        "# 데이터셋 Feature 소개\n",
        "\n",
        "[0] Sex: M(male, 수), F(female, 암), I(infant, 유아) | object\n",
        "\n",
        "[1] Length: 길이, 가장 긴 쉘 측정(mm) | float\n",
        "\n",
        "[2] Diameter: 지름, 길이에 수직(mm) | float\n",
        "\n",
        "[3] Height: 높이, 껍데기와 고기를 포함(mm) | float\n",
        "\n",
        "[4] Whole weight: 전체 전복의 무게(grams) | float\n",
        "\n",
        "[5] shucked weight: 고기의 무게(grams) | float\n",
        "\n",
        "[6] Viscera weight: 전복의 출혈 후 내장 무게(grams) | float\n",
        "\n",
        "[7] Shell weight: 건조 후 껍질 무게(grams) | float\n",
        "\n",
        "[8] Rings: 고리의 수. +1.5는 나이(년)를 나타냄 | int\n",
        "[출처] [모두의 딥러닝] abalone.csv | 전복 데이터 분석 및 활용|작성자 채백"
      ],
      "metadata": {
        "id": "LphrlXO-4yk9"
      }
    },
    {
      "cell_type": "code",
      "execution_count": null,
      "metadata": {
        "id": "TbpWOtup2hev"
      },
      "outputs": [],
      "source": [
        "import pandas as pd\n",
        "import matplotlib.pyplot as plt\n",
        "import seaborn as sns"
      ]
    },
    {
      "cell_type": "code",
      "source": [
        "df=pd.read_csv('/content/abalone.csv')\n",
        "df"
      ],
      "metadata": {
        "colab": {
          "base_uri": "https://localhost:8080/",
          "height": 423
        },
        "id": "P1bfHx8K3UkX",
        "outputId": "3ff2fec0-dd7c-4954-ad3b-c0552b080cc4"
      },
      "execution_count": null,
      "outputs": [
        {
          "output_type": "execute_result",
          "data": {
            "text/plain": [
              "     Sex  Length  Diameter  Height  Whole weight  Shucked weight  \\\n",
              "0      M   0.455     0.365   0.095        0.5140          0.2245   \n",
              "1      M   0.350     0.265   0.090        0.2255          0.0995   \n",
              "2      F   0.530     0.420   0.135        0.6770          0.2565   \n",
              "3      M   0.440     0.365   0.125        0.5160          0.2155   \n",
              "4      I   0.330     0.255   0.080        0.2050          0.0895   \n",
              "...   ..     ...       ...     ...           ...             ...   \n",
              "4172   F   0.565     0.450   0.165        0.8870          0.3700   \n",
              "4173   M   0.590     0.440   0.135        0.9660          0.4390   \n",
              "4174   M   0.600     0.475   0.205        1.1760          0.5255   \n",
              "4175   F   0.625     0.485   0.150        1.0945          0.5310   \n",
              "4176   M   0.710     0.555   0.195        1.9485          0.9455   \n",
              "\n",
              "      Viscera weight  Shell weight  Rings  \n",
              "0             0.1010        0.1500     15  \n",
              "1             0.0485        0.0700      7  \n",
              "2             0.1415        0.2100      9  \n",
              "3             0.1140        0.1550     10  \n",
              "4             0.0395        0.0550      7  \n",
              "...              ...           ...    ...  \n",
              "4172          0.2390        0.2490     11  \n",
              "4173          0.2145        0.2605     10  \n",
              "4174          0.2875        0.3080      9  \n",
              "4175          0.2610        0.2960     10  \n",
              "4176          0.3765        0.4950     12  \n",
              "\n",
              "[4177 rows x 9 columns]"
            ],
            "text/html": [
              "\n",
              "  <div id=\"df-77e6d350-7932-4314-8616-b2f240975b9a\" class=\"colab-df-container\">\n",
              "    <div>\n",
              "<style scoped>\n",
              "    .dataframe tbody tr th:only-of-type {\n",
              "        vertical-align: middle;\n",
              "    }\n",
              "\n",
              "    .dataframe tbody tr th {\n",
              "        vertical-align: top;\n",
              "    }\n",
              "\n",
              "    .dataframe thead th {\n",
              "        text-align: right;\n",
              "    }\n",
              "</style>\n",
              "<table border=\"1\" class=\"dataframe\">\n",
              "  <thead>\n",
              "    <tr style=\"text-align: right;\">\n",
              "      <th></th>\n",
              "      <th>Sex</th>\n",
              "      <th>Length</th>\n",
              "      <th>Diameter</th>\n",
              "      <th>Height</th>\n",
              "      <th>Whole weight</th>\n",
              "      <th>Shucked weight</th>\n",
              "      <th>Viscera weight</th>\n",
              "      <th>Shell weight</th>\n",
              "      <th>Rings</th>\n",
              "    </tr>\n",
              "  </thead>\n",
              "  <tbody>\n",
              "    <tr>\n",
              "      <th>0</th>\n",
              "      <td>M</td>\n",
              "      <td>0.455</td>\n",
              "      <td>0.365</td>\n",
              "      <td>0.095</td>\n",
              "      <td>0.5140</td>\n",
              "      <td>0.2245</td>\n",
              "      <td>0.1010</td>\n",
              "      <td>0.1500</td>\n",
              "      <td>15</td>\n",
              "    </tr>\n",
              "    <tr>\n",
              "      <th>1</th>\n",
              "      <td>M</td>\n",
              "      <td>0.350</td>\n",
              "      <td>0.265</td>\n",
              "      <td>0.090</td>\n",
              "      <td>0.2255</td>\n",
              "      <td>0.0995</td>\n",
              "      <td>0.0485</td>\n",
              "      <td>0.0700</td>\n",
              "      <td>7</td>\n",
              "    </tr>\n",
              "    <tr>\n",
              "      <th>2</th>\n",
              "      <td>F</td>\n",
              "      <td>0.530</td>\n",
              "      <td>0.420</td>\n",
              "      <td>0.135</td>\n",
              "      <td>0.6770</td>\n",
              "      <td>0.2565</td>\n",
              "      <td>0.1415</td>\n",
              "      <td>0.2100</td>\n",
              "      <td>9</td>\n",
              "    </tr>\n",
              "    <tr>\n",
              "      <th>3</th>\n",
              "      <td>M</td>\n",
              "      <td>0.440</td>\n",
              "      <td>0.365</td>\n",
              "      <td>0.125</td>\n",
              "      <td>0.5160</td>\n",
              "      <td>0.2155</td>\n",
              "      <td>0.1140</td>\n",
              "      <td>0.1550</td>\n",
              "      <td>10</td>\n",
              "    </tr>\n",
              "    <tr>\n",
              "      <th>4</th>\n",
              "      <td>I</td>\n",
              "      <td>0.330</td>\n",
              "      <td>0.255</td>\n",
              "      <td>0.080</td>\n",
              "      <td>0.2050</td>\n",
              "      <td>0.0895</td>\n",
              "      <td>0.0395</td>\n",
              "      <td>0.0550</td>\n",
              "      <td>7</td>\n",
              "    </tr>\n",
              "    <tr>\n",
              "      <th>...</th>\n",
              "      <td>...</td>\n",
              "      <td>...</td>\n",
              "      <td>...</td>\n",
              "      <td>...</td>\n",
              "      <td>...</td>\n",
              "      <td>...</td>\n",
              "      <td>...</td>\n",
              "      <td>...</td>\n",
              "      <td>...</td>\n",
              "    </tr>\n",
              "    <tr>\n",
              "      <th>4172</th>\n",
              "      <td>F</td>\n",
              "      <td>0.565</td>\n",
              "      <td>0.450</td>\n",
              "      <td>0.165</td>\n",
              "      <td>0.8870</td>\n",
              "      <td>0.3700</td>\n",
              "      <td>0.2390</td>\n",
              "      <td>0.2490</td>\n",
              "      <td>11</td>\n",
              "    </tr>\n",
              "    <tr>\n",
              "      <th>4173</th>\n",
              "      <td>M</td>\n",
              "      <td>0.590</td>\n",
              "      <td>0.440</td>\n",
              "      <td>0.135</td>\n",
              "      <td>0.9660</td>\n",
              "      <td>0.4390</td>\n",
              "      <td>0.2145</td>\n",
              "      <td>0.2605</td>\n",
              "      <td>10</td>\n",
              "    </tr>\n",
              "    <tr>\n",
              "      <th>4174</th>\n",
              "      <td>M</td>\n",
              "      <td>0.600</td>\n",
              "      <td>0.475</td>\n",
              "      <td>0.205</td>\n",
              "      <td>1.1760</td>\n",
              "      <td>0.5255</td>\n",
              "      <td>0.2875</td>\n",
              "      <td>0.3080</td>\n",
              "      <td>9</td>\n",
              "    </tr>\n",
              "    <tr>\n",
              "      <th>4175</th>\n",
              "      <td>F</td>\n",
              "      <td>0.625</td>\n",
              "      <td>0.485</td>\n",
              "      <td>0.150</td>\n",
              "      <td>1.0945</td>\n",
              "      <td>0.5310</td>\n",
              "      <td>0.2610</td>\n",
              "      <td>0.2960</td>\n",
              "      <td>10</td>\n",
              "    </tr>\n",
              "    <tr>\n",
              "      <th>4176</th>\n",
              "      <td>M</td>\n",
              "      <td>0.710</td>\n",
              "      <td>0.555</td>\n",
              "      <td>0.195</td>\n",
              "      <td>1.9485</td>\n",
              "      <td>0.9455</td>\n",
              "      <td>0.3765</td>\n",
              "      <td>0.4950</td>\n",
              "      <td>12</td>\n",
              "    </tr>\n",
              "  </tbody>\n",
              "</table>\n",
              "<p>4177 rows × 9 columns</p>\n",
              "</div>\n",
              "    <div class=\"colab-df-buttons\">\n",
              "\n",
              "  <div class=\"colab-df-container\">\n",
              "    <button class=\"colab-df-convert\" onclick=\"convertToInteractive('df-77e6d350-7932-4314-8616-b2f240975b9a')\"\n",
              "            title=\"Convert this dataframe to an interactive table.\"\n",
              "            style=\"display:none;\">\n",
              "\n",
              "  <svg xmlns=\"http://www.w3.org/2000/svg\" height=\"24px\" viewBox=\"0 -960 960 960\">\n",
              "    <path d=\"M120-120v-720h720v720H120Zm60-500h600v-160H180v160Zm220 220h160v-160H400v160Zm0 220h160v-160H400v160ZM180-400h160v-160H180v160Zm440 0h160v-160H620v160ZM180-180h160v-160H180v160Zm440 0h160v-160H620v160Z\"/>\n",
              "  </svg>\n",
              "    </button>\n",
              "\n",
              "  <style>\n",
              "    .colab-df-container {\n",
              "      display:flex;\n",
              "      gap: 12px;\n",
              "    }\n",
              "\n",
              "    .colab-df-convert {\n",
              "      background-color: #E8F0FE;\n",
              "      border: none;\n",
              "      border-radius: 50%;\n",
              "      cursor: pointer;\n",
              "      display: none;\n",
              "      fill: #1967D2;\n",
              "      height: 32px;\n",
              "      padding: 0 0 0 0;\n",
              "      width: 32px;\n",
              "    }\n",
              "\n",
              "    .colab-df-convert:hover {\n",
              "      background-color: #E2EBFA;\n",
              "      box-shadow: 0px 1px 2px rgba(60, 64, 67, 0.3), 0px 1px 3px 1px rgba(60, 64, 67, 0.15);\n",
              "      fill: #174EA6;\n",
              "    }\n",
              "\n",
              "    .colab-df-buttons div {\n",
              "      margin-bottom: 4px;\n",
              "    }\n",
              "\n",
              "    [theme=dark] .colab-df-convert {\n",
              "      background-color: #3B4455;\n",
              "      fill: #D2E3FC;\n",
              "    }\n",
              "\n",
              "    [theme=dark] .colab-df-convert:hover {\n",
              "      background-color: #434B5C;\n",
              "      box-shadow: 0px 1px 3px 1px rgba(0, 0, 0, 0.15);\n",
              "      filter: drop-shadow(0px 1px 2px rgba(0, 0, 0, 0.3));\n",
              "      fill: #FFFFFF;\n",
              "    }\n",
              "  </style>\n",
              "\n",
              "    <script>\n",
              "      const buttonEl =\n",
              "        document.querySelector('#df-77e6d350-7932-4314-8616-b2f240975b9a button.colab-df-convert');\n",
              "      buttonEl.style.display =\n",
              "        google.colab.kernel.accessAllowed ? 'block' : 'none';\n",
              "\n",
              "      async function convertToInteractive(key) {\n",
              "        const element = document.querySelector('#df-77e6d350-7932-4314-8616-b2f240975b9a');\n",
              "        const dataTable =\n",
              "          await google.colab.kernel.invokeFunction('convertToInteractive',\n",
              "                                                    [key], {});\n",
              "        if (!dataTable) return;\n",
              "\n",
              "        const docLinkHtml = 'Like what you see? Visit the ' +\n",
              "          '<a target=\"_blank\" href=https://colab.research.google.com/notebooks/data_table.ipynb>data table notebook</a>'\n",
              "          + ' to learn more about interactive tables.';\n",
              "        element.innerHTML = '';\n",
              "        dataTable['output_type'] = 'display_data';\n",
              "        await google.colab.output.renderOutput(dataTable, element);\n",
              "        const docLink = document.createElement('div');\n",
              "        docLink.innerHTML = docLinkHtml;\n",
              "        element.appendChild(docLink);\n",
              "      }\n",
              "    </script>\n",
              "  </div>\n",
              "\n",
              "\n",
              "<div id=\"df-753d8140-f11e-4aca-a35e-3511d61547cd\">\n",
              "  <button class=\"colab-df-quickchart\" onclick=\"quickchart('df-753d8140-f11e-4aca-a35e-3511d61547cd')\"\n",
              "            title=\"Suggest charts\"\n",
              "            style=\"display:none;\">\n",
              "\n",
              "<svg xmlns=\"http://www.w3.org/2000/svg\" height=\"24px\"viewBox=\"0 0 24 24\"\n",
              "     width=\"24px\">\n",
              "    <g>\n",
              "        <path d=\"M19 3H5c-1.1 0-2 .9-2 2v14c0 1.1.9 2 2 2h14c1.1 0 2-.9 2-2V5c0-1.1-.9-2-2-2zM9 17H7v-7h2v7zm4 0h-2V7h2v10zm4 0h-2v-4h2v4z\"/>\n",
              "    </g>\n",
              "</svg>\n",
              "  </button>\n",
              "\n",
              "<style>\n",
              "  .colab-df-quickchart {\n",
              "      --bg-color: #E8F0FE;\n",
              "      --fill-color: #1967D2;\n",
              "      --hover-bg-color: #E2EBFA;\n",
              "      --hover-fill-color: #174EA6;\n",
              "      --disabled-fill-color: #AAA;\n",
              "      --disabled-bg-color: #DDD;\n",
              "  }\n",
              "\n",
              "  [theme=dark] .colab-df-quickchart {\n",
              "      --bg-color: #3B4455;\n",
              "      --fill-color: #D2E3FC;\n",
              "      --hover-bg-color: #434B5C;\n",
              "      --hover-fill-color: #FFFFFF;\n",
              "      --disabled-bg-color: #3B4455;\n",
              "      --disabled-fill-color: #666;\n",
              "  }\n",
              "\n",
              "  .colab-df-quickchart {\n",
              "    background-color: var(--bg-color);\n",
              "    border: none;\n",
              "    border-radius: 50%;\n",
              "    cursor: pointer;\n",
              "    display: none;\n",
              "    fill: var(--fill-color);\n",
              "    height: 32px;\n",
              "    padding: 0;\n",
              "    width: 32px;\n",
              "  }\n",
              "\n",
              "  .colab-df-quickchart:hover {\n",
              "    background-color: var(--hover-bg-color);\n",
              "    box-shadow: 0 1px 2px rgba(60, 64, 67, 0.3), 0 1px 3px 1px rgba(60, 64, 67, 0.15);\n",
              "    fill: var(--button-hover-fill-color);\n",
              "  }\n",
              "\n",
              "  .colab-df-quickchart-complete:disabled,\n",
              "  .colab-df-quickchart-complete:disabled:hover {\n",
              "    background-color: var(--disabled-bg-color);\n",
              "    fill: var(--disabled-fill-color);\n",
              "    box-shadow: none;\n",
              "  }\n",
              "\n",
              "  .colab-df-spinner {\n",
              "    border: 2px solid var(--fill-color);\n",
              "    border-color: transparent;\n",
              "    border-bottom-color: var(--fill-color);\n",
              "    animation:\n",
              "      spin 1s steps(1) infinite;\n",
              "  }\n",
              "\n",
              "  @keyframes spin {\n",
              "    0% {\n",
              "      border-color: transparent;\n",
              "      border-bottom-color: var(--fill-color);\n",
              "      border-left-color: var(--fill-color);\n",
              "    }\n",
              "    20% {\n",
              "      border-color: transparent;\n",
              "      border-left-color: var(--fill-color);\n",
              "      border-top-color: var(--fill-color);\n",
              "    }\n",
              "    30% {\n",
              "      border-color: transparent;\n",
              "      border-left-color: var(--fill-color);\n",
              "      border-top-color: var(--fill-color);\n",
              "      border-right-color: var(--fill-color);\n",
              "    }\n",
              "    40% {\n",
              "      border-color: transparent;\n",
              "      border-right-color: var(--fill-color);\n",
              "      border-top-color: var(--fill-color);\n",
              "    }\n",
              "    60% {\n",
              "      border-color: transparent;\n",
              "      border-right-color: var(--fill-color);\n",
              "    }\n",
              "    80% {\n",
              "      border-color: transparent;\n",
              "      border-right-color: var(--fill-color);\n",
              "      border-bottom-color: var(--fill-color);\n",
              "    }\n",
              "    90% {\n",
              "      border-color: transparent;\n",
              "      border-bottom-color: var(--fill-color);\n",
              "    }\n",
              "  }\n",
              "</style>\n",
              "\n",
              "  <script>\n",
              "    async function quickchart(key) {\n",
              "      const quickchartButtonEl =\n",
              "        document.querySelector('#' + key + ' button');\n",
              "      quickchartButtonEl.disabled = true;  // To prevent multiple clicks.\n",
              "      quickchartButtonEl.classList.add('colab-df-spinner');\n",
              "      try {\n",
              "        const charts = await google.colab.kernel.invokeFunction(\n",
              "            'suggestCharts', [key], {});\n",
              "      } catch (error) {\n",
              "        console.error('Error during call to suggestCharts:', error);\n",
              "      }\n",
              "      quickchartButtonEl.classList.remove('colab-df-spinner');\n",
              "      quickchartButtonEl.classList.add('colab-df-quickchart-complete');\n",
              "    }\n",
              "    (() => {\n",
              "      let quickchartButtonEl =\n",
              "        document.querySelector('#df-753d8140-f11e-4aca-a35e-3511d61547cd button');\n",
              "      quickchartButtonEl.style.display =\n",
              "        google.colab.kernel.accessAllowed ? 'block' : 'none';\n",
              "    })();\n",
              "  </script>\n",
              "</div>\n",
              "\n",
              "  <div id=\"id_3ba07848-6e30-4d2b-bbe9-9eb60e2ad067\">\n",
              "    <style>\n",
              "      .colab-df-generate {\n",
              "        background-color: #E8F0FE;\n",
              "        border: none;\n",
              "        border-radius: 50%;\n",
              "        cursor: pointer;\n",
              "        display: none;\n",
              "        fill: #1967D2;\n",
              "        height: 32px;\n",
              "        padding: 0 0 0 0;\n",
              "        width: 32px;\n",
              "      }\n",
              "\n",
              "      .colab-df-generate:hover {\n",
              "        background-color: #E2EBFA;\n",
              "        box-shadow: 0px 1px 2px rgba(60, 64, 67, 0.3), 0px 1px 3px 1px rgba(60, 64, 67, 0.15);\n",
              "        fill: #174EA6;\n",
              "      }\n",
              "\n",
              "      [theme=dark] .colab-df-generate {\n",
              "        background-color: #3B4455;\n",
              "        fill: #D2E3FC;\n",
              "      }\n",
              "\n",
              "      [theme=dark] .colab-df-generate:hover {\n",
              "        background-color: #434B5C;\n",
              "        box-shadow: 0px 1px 3px 1px rgba(0, 0, 0, 0.15);\n",
              "        filter: drop-shadow(0px 1px 2px rgba(0, 0, 0, 0.3));\n",
              "        fill: #FFFFFF;\n",
              "      }\n",
              "    </style>\n",
              "    <button class=\"colab-df-generate\" onclick=\"generateWithVariable('df')\"\n",
              "            title=\"Generate code using this dataframe.\"\n",
              "            style=\"display:none;\">\n",
              "\n",
              "  <svg xmlns=\"http://www.w3.org/2000/svg\" height=\"24px\"viewBox=\"0 0 24 24\"\n",
              "       width=\"24px\">\n",
              "    <path d=\"M7,19H8.4L18.45,9,17,7.55,7,17.6ZM5,21V16.75L18.45,3.32a2,2,0,0,1,2.83,0l1.4,1.43a1.91,1.91,0,0,1,.58,1.4,1.91,1.91,0,0,1-.58,1.4L9.25,21ZM18.45,9,17,7.55Zm-12,3A5.31,5.31,0,0,0,4.9,8.1,5.31,5.31,0,0,0,1,6.5,5.31,5.31,0,0,0,4.9,4.9,5.31,5.31,0,0,0,6.5,1,5.31,5.31,0,0,0,8.1,4.9,5.31,5.31,0,0,0,12,6.5,5.46,5.46,0,0,0,6.5,12Z\"/>\n",
              "  </svg>\n",
              "    </button>\n",
              "    <script>\n",
              "      (() => {\n",
              "      const buttonEl =\n",
              "        document.querySelector('#id_3ba07848-6e30-4d2b-bbe9-9eb60e2ad067 button.colab-df-generate');\n",
              "      buttonEl.style.display =\n",
              "        google.colab.kernel.accessAllowed ? 'block' : 'none';\n",
              "\n",
              "      buttonEl.onclick = () => {\n",
              "        google.colab.notebook.generateWithVariable('df');\n",
              "      }\n",
              "      })();\n",
              "    </script>\n",
              "  </div>\n",
              "\n",
              "    </div>\n",
              "  </div>\n"
            ],
            "application/vnd.google.colaboratory.intrinsic+json": {
              "type": "dataframe",
              "variable_name": "df",
              "summary": "{\n  \"name\": \"df\",\n  \"rows\": 4177,\n  \"fields\": [\n    {\n      \"column\": \"Sex\",\n      \"properties\": {\n        \"dtype\": \"category\",\n        \"num_unique_values\": 3,\n        \"samples\": [\n          \"M\",\n          \"F\",\n          \"I\"\n        ],\n        \"semantic_type\": \"\",\n        \"description\": \"\"\n      }\n    },\n    {\n      \"column\": \"Length\",\n      \"properties\": {\n        \"dtype\": \"number\",\n        \"std\": 0.12009291256479956,\n        \"min\": 0.075,\n        \"max\": 0.815,\n        \"num_unique_values\": 134,\n        \"samples\": [\n          0.815,\n          0.65,\n          0.29\n        ],\n        \"semantic_type\": \"\",\n        \"description\": \"\"\n      }\n    },\n    {\n      \"column\": \"Diameter\",\n      \"properties\": {\n        \"dtype\": \"number\",\n        \"std\": 0.09923986613365945,\n        \"min\": 0.055,\n        \"max\": 0.65,\n        \"num_unique_values\": 111,\n        \"samples\": [\n          0.09,\n          0.35,\n          0.3\n        ],\n        \"semantic_type\": \"\",\n        \"description\": \"\"\n      }\n    },\n    {\n      \"column\": \"Height\",\n      \"properties\": {\n        \"dtype\": \"number\",\n        \"std\": 0.041827056607257274,\n        \"min\": 0.0,\n        \"max\": 1.13,\n        \"num_unique_values\": 51,\n        \"samples\": [\n          0.235,\n          0.035,\n          0.015\n        ],\n        \"semantic_type\": \"\",\n        \"description\": \"\"\n      }\n    },\n    {\n      \"column\": \"Whole weight\",\n      \"properties\": {\n        \"dtype\": \"number\",\n        \"std\": 0.4903890182309977,\n        \"min\": 0.002,\n        \"max\": 2.8255,\n        \"num_unique_values\": 2429,\n        \"samples\": [\n          1.2825,\n          1.09,\n          0.131\n        ],\n        \"semantic_type\": \"\",\n        \"description\": \"\"\n      }\n    },\n    {\n      \"column\": \"Shucked weight\",\n      \"properties\": {\n        \"dtype\": \"number\",\n        \"std\": 0.22196294903322014,\n        \"min\": 0.001,\n        \"max\": 1.488,\n        \"num_unique_values\": 1515,\n        \"samples\": [\n          0.2105,\n          0.0645,\n          0.476\n        ],\n        \"semantic_type\": \"\",\n        \"description\": \"\"\n      }\n    },\n    {\n      \"column\": \"Viscera weight\",\n      \"properties\": {\n        \"dtype\": \"number\",\n        \"std\": 0.10961425025968446,\n        \"min\": 0.0005,\n        \"max\": 0.76,\n        \"num_unique_values\": 880,\n        \"samples\": [\n          0.0645,\n          0.0095,\n          0.1115\n        ],\n        \"semantic_type\": \"\",\n        \"description\": \"\"\n      }\n    },\n    {\n      \"column\": \"Shell weight\",\n      \"properties\": {\n        \"dtype\": \"number\",\n        \"std\": 0.1392026695223861,\n        \"min\": 0.0015,\n        \"max\": 1.005,\n        \"num_unique_values\": 926,\n        \"samples\": [\n          0.3745,\n          0.2825,\n          0.49\n        ],\n        \"semantic_type\": \"\",\n        \"description\": \"\"\n      }\n    },\n    {\n      \"column\": \"Rings\",\n      \"properties\": {\n        \"dtype\": \"number\",\n        \"std\": 3,\n        \"min\": 1,\n        \"max\": 29,\n        \"num_unique_values\": 28,\n        \"samples\": [\n          11,\n          27,\n          14\n        ],\n        \"semantic_type\": \"\",\n        \"description\": \"\"\n      }\n    }\n  ]\n}"
            }
          },
          "metadata": {},
          "execution_count": 56
        }
      ]
    },
    {
      "cell_type": "code",
      "source": [
        "#데이터 정보\n",
        "df.info()"
      ],
      "metadata": {
        "colab": {
          "base_uri": "https://localhost:8080/"
        },
        "id": "ds1Gzc0E3fK7",
        "outputId": "57914106-ffa2-4030-e05a-9742923228dd"
      },
      "execution_count": null,
      "outputs": [
        {
          "output_type": "stream",
          "name": "stdout",
          "text": [
            "<class 'pandas.core.frame.DataFrame'>\n",
            "RangeIndex: 4177 entries, 0 to 4176\n",
            "Data columns (total 9 columns):\n",
            " #   Column          Non-Null Count  Dtype  \n",
            "---  ------          --------------  -----  \n",
            " 0   Sex             4177 non-null   object \n",
            " 1   Length          4177 non-null   float64\n",
            " 2   Diameter        4177 non-null   float64\n",
            " 3   Height          4177 non-null   float64\n",
            " 4   Whole weight    4177 non-null   float64\n",
            " 5   Shucked weight  4177 non-null   float64\n",
            " 6   Viscera weight  4177 non-null   float64\n",
            " 7   Shell weight    4177 non-null   float64\n",
            " 8   Rings           4177 non-null   int64  \n",
            "dtypes: float64(7), int64(1), object(1)\n",
            "memory usage: 293.8+ KB\n"
          ]
        }
      ]
    },
    {
      "cell_type": "code",
      "source": [
        "#데이터 통계정보\n",
        "df.describe()"
      ],
      "metadata": {
        "colab": {
          "base_uri": "https://localhost:8080/",
          "height": 300
        },
        "id": "idV6oJXk3iIg",
        "outputId": "149f7440-324d-4ea6-efab-9a18909c220b"
      },
      "execution_count": null,
      "outputs": [
        {
          "output_type": "execute_result",
          "data": {
            "text/plain": [
              "            Length     Diameter       Height  Whole weight  Shucked weight  \\\n",
              "count  4177.000000  4177.000000  4177.000000   4177.000000     4177.000000   \n",
              "mean      0.523992     0.407881     0.139516      0.828742        0.359367   \n",
              "std       0.120093     0.099240     0.041827      0.490389        0.221963   \n",
              "min       0.075000     0.055000     0.000000      0.002000        0.001000   \n",
              "25%       0.450000     0.350000     0.115000      0.441500        0.186000   \n",
              "50%       0.545000     0.425000     0.140000      0.799500        0.336000   \n",
              "75%       0.615000     0.480000     0.165000      1.153000        0.502000   \n",
              "max       0.815000     0.650000     1.130000      2.825500        1.488000   \n",
              "\n",
              "       Viscera weight  Shell weight        Rings  \n",
              "count     4177.000000   4177.000000  4177.000000  \n",
              "mean         0.180594      0.238831     9.933684  \n",
              "std          0.109614      0.139203     3.224169  \n",
              "min          0.000500      0.001500     1.000000  \n",
              "25%          0.093500      0.130000     8.000000  \n",
              "50%          0.171000      0.234000     9.000000  \n",
              "75%          0.253000      0.329000    11.000000  \n",
              "max          0.760000      1.005000    29.000000  "
            ],
            "text/html": [
              "\n",
              "  <div id=\"df-1f140aa1-7501-45ff-9683-564f6bab4b7c\" class=\"colab-df-container\">\n",
              "    <div>\n",
              "<style scoped>\n",
              "    .dataframe tbody tr th:only-of-type {\n",
              "        vertical-align: middle;\n",
              "    }\n",
              "\n",
              "    .dataframe tbody tr th {\n",
              "        vertical-align: top;\n",
              "    }\n",
              "\n",
              "    .dataframe thead th {\n",
              "        text-align: right;\n",
              "    }\n",
              "</style>\n",
              "<table border=\"1\" class=\"dataframe\">\n",
              "  <thead>\n",
              "    <tr style=\"text-align: right;\">\n",
              "      <th></th>\n",
              "      <th>Length</th>\n",
              "      <th>Diameter</th>\n",
              "      <th>Height</th>\n",
              "      <th>Whole weight</th>\n",
              "      <th>Shucked weight</th>\n",
              "      <th>Viscera weight</th>\n",
              "      <th>Shell weight</th>\n",
              "      <th>Rings</th>\n",
              "    </tr>\n",
              "  </thead>\n",
              "  <tbody>\n",
              "    <tr>\n",
              "      <th>count</th>\n",
              "      <td>4177.000000</td>\n",
              "      <td>4177.000000</td>\n",
              "      <td>4177.000000</td>\n",
              "      <td>4177.000000</td>\n",
              "      <td>4177.000000</td>\n",
              "      <td>4177.000000</td>\n",
              "      <td>4177.000000</td>\n",
              "      <td>4177.000000</td>\n",
              "    </tr>\n",
              "    <tr>\n",
              "      <th>mean</th>\n",
              "      <td>0.523992</td>\n",
              "      <td>0.407881</td>\n",
              "      <td>0.139516</td>\n",
              "      <td>0.828742</td>\n",
              "      <td>0.359367</td>\n",
              "      <td>0.180594</td>\n",
              "      <td>0.238831</td>\n",
              "      <td>9.933684</td>\n",
              "    </tr>\n",
              "    <tr>\n",
              "      <th>std</th>\n",
              "      <td>0.120093</td>\n",
              "      <td>0.099240</td>\n",
              "      <td>0.041827</td>\n",
              "      <td>0.490389</td>\n",
              "      <td>0.221963</td>\n",
              "      <td>0.109614</td>\n",
              "      <td>0.139203</td>\n",
              "      <td>3.224169</td>\n",
              "    </tr>\n",
              "    <tr>\n",
              "      <th>min</th>\n",
              "      <td>0.075000</td>\n",
              "      <td>0.055000</td>\n",
              "      <td>0.000000</td>\n",
              "      <td>0.002000</td>\n",
              "      <td>0.001000</td>\n",
              "      <td>0.000500</td>\n",
              "      <td>0.001500</td>\n",
              "      <td>1.000000</td>\n",
              "    </tr>\n",
              "    <tr>\n",
              "      <th>25%</th>\n",
              "      <td>0.450000</td>\n",
              "      <td>0.350000</td>\n",
              "      <td>0.115000</td>\n",
              "      <td>0.441500</td>\n",
              "      <td>0.186000</td>\n",
              "      <td>0.093500</td>\n",
              "      <td>0.130000</td>\n",
              "      <td>8.000000</td>\n",
              "    </tr>\n",
              "    <tr>\n",
              "      <th>50%</th>\n",
              "      <td>0.545000</td>\n",
              "      <td>0.425000</td>\n",
              "      <td>0.140000</td>\n",
              "      <td>0.799500</td>\n",
              "      <td>0.336000</td>\n",
              "      <td>0.171000</td>\n",
              "      <td>0.234000</td>\n",
              "      <td>9.000000</td>\n",
              "    </tr>\n",
              "    <tr>\n",
              "      <th>75%</th>\n",
              "      <td>0.615000</td>\n",
              "      <td>0.480000</td>\n",
              "      <td>0.165000</td>\n",
              "      <td>1.153000</td>\n",
              "      <td>0.502000</td>\n",
              "      <td>0.253000</td>\n",
              "      <td>0.329000</td>\n",
              "      <td>11.000000</td>\n",
              "    </tr>\n",
              "    <tr>\n",
              "      <th>max</th>\n",
              "      <td>0.815000</td>\n",
              "      <td>0.650000</td>\n",
              "      <td>1.130000</td>\n",
              "      <td>2.825500</td>\n",
              "      <td>1.488000</td>\n",
              "      <td>0.760000</td>\n",
              "      <td>1.005000</td>\n",
              "      <td>29.000000</td>\n",
              "    </tr>\n",
              "  </tbody>\n",
              "</table>\n",
              "</div>\n",
              "    <div class=\"colab-df-buttons\">\n",
              "\n",
              "  <div class=\"colab-df-container\">\n",
              "    <button class=\"colab-df-convert\" onclick=\"convertToInteractive('df-1f140aa1-7501-45ff-9683-564f6bab4b7c')\"\n",
              "            title=\"Convert this dataframe to an interactive table.\"\n",
              "            style=\"display:none;\">\n",
              "\n",
              "  <svg xmlns=\"http://www.w3.org/2000/svg\" height=\"24px\" viewBox=\"0 -960 960 960\">\n",
              "    <path d=\"M120-120v-720h720v720H120Zm60-500h600v-160H180v160Zm220 220h160v-160H400v160Zm0 220h160v-160H400v160ZM180-400h160v-160H180v160Zm440 0h160v-160H620v160ZM180-180h160v-160H180v160Zm440 0h160v-160H620v160Z\"/>\n",
              "  </svg>\n",
              "    </button>\n",
              "\n",
              "  <style>\n",
              "    .colab-df-container {\n",
              "      display:flex;\n",
              "      gap: 12px;\n",
              "    }\n",
              "\n",
              "    .colab-df-convert {\n",
              "      background-color: #E8F0FE;\n",
              "      border: none;\n",
              "      border-radius: 50%;\n",
              "      cursor: pointer;\n",
              "      display: none;\n",
              "      fill: #1967D2;\n",
              "      height: 32px;\n",
              "      padding: 0 0 0 0;\n",
              "      width: 32px;\n",
              "    }\n",
              "\n",
              "    .colab-df-convert:hover {\n",
              "      background-color: #E2EBFA;\n",
              "      box-shadow: 0px 1px 2px rgba(60, 64, 67, 0.3), 0px 1px 3px 1px rgba(60, 64, 67, 0.15);\n",
              "      fill: #174EA6;\n",
              "    }\n",
              "\n",
              "    .colab-df-buttons div {\n",
              "      margin-bottom: 4px;\n",
              "    }\n",
              "\n",
              "    [theme=dark] .colab-df-convert {\n",
              "      background-color: #3B4455;\n",
              "      fill: #D2E3FC;\n",
              "    }\n",
              "\n",
              "    [theme=dark] .colab-df-convert:hover {\n",
              "      background-color: #434B5C;\n",
              "      box-shadow: 0px 1px 3px 1px rgba(0, 0, 0, 0.15);\n",
              "      filter: drop-shadow(0px 1px 2px rgba(0, 0, 0, 0.3));\n",
              "      fill: #FFFFFF;\n",
              "    }\n",
              "  </style>\n",
              "\n",
              "    <script>\n",
              "      const buttonEl =\n",
              "        document.querySelector('#df-1f140aa1-7501-45ff-9683-564f6bab4b7c button.colab-df-convert');\n",
              "      buttonEl.style.display =\n",
              "        google.colab.kernel.accessAllowed ? 'block' : 'none';\n",
              "\n",
              "      async function convertToInteractive(key) {\n",
              "        const element = document.querySelector('#df-1f140aa1-7501-45ff-9683-564f6bab4b7c');\n",
              "        const dataTable =\n",
              "          await google.colab.kernel.invokeFunction('convertToInteractive',\n",
              "                                                    [key], {});\n",
              "        if (!dataTable) return;\n",
              "\n",
              "        const docLinkHtml = 'Like what you see? Visit the ' +\n",
              "          '<a target=\"_blank\" href=https://colab.research.google.com/notebooks/data_table.ipynb>data table notebook</a>'\n",
              "          + ' to learn more about interactive tables.';\n",
              "        element.innerHTML = '';\n",
              "        dataTable['output_type'] = 'display_data';\n",
              "        await google.colab.output.renderOutput(dataTable, element);\n",
              "        const docLink = document.createElement('div');\n",
              "        docLink.innerHTML = docLinkHtml;\n",
              "        element.appendChild(docLink);\n",
              "      }\n",
              "    </script>\n",
              "  </div>\n",
              "\n",
              "\n",
              "<div id=\"df-d2b94200-5400-4547-95bf-e1c9ff73f5a6\">\n",
              "  <button class=\"colab-df-quickchart\" onclick=\"quickchart('df-d2b94200-5400-4547-95bf-e1c9ff73f5a6')\"\n",
              "            title=\"Suggest charts\"\n",
              "            style=\"display:none;\">\n",
              "\n",
              "<svg xmlns=\"http://www.w3.org/2000/svg\" height=\"24px\"viewBox=\"0 0 24 24\"\n",
              "     width=\"24px\">\n",
              "    <g>\n",
              "        <path d=\"M19 3H5c-1.1 0-2 .9-2 2v14c0 1.1.9 2 2 2h14c1.1 0 2-.9 2-2V5c0-1.1-.9-2-2-2zM9 17H7v-7h2v7zm4 0h-2V7h2v10zm4 0h-2v-4h2v4z\"/>\n",
              "    </g>\n",
              "</svg>\n",
              "  </button>\n",
              "\n",
              "<style>\n",
              "  .colab-df-quickchart {\n",
              "      --bg-color: #E8F0FE;\n",
              "      --fill-color: #1967D2;\n",
              "      --hover-bg-color: #E2EBFA;\n",
              "      --hover-fill-color: #174EA6;\n",
              "      --disabled-fill-color: #AAA;\n",
              "      --disabled-bg-color: #DDD;\n",
              "  }\n",
              "\n",
              "  [theme=dark] .colab-df-quickchart {\n",
              "      --bg-color: #3B4455;\n",
              "      --fill-color: #D2E3FC;\n",
              "      --hover-bg-color: #434B5C;\n",
              "      --hover-fill-color: #FFFFFF;\n",
              "      --disabled-bg-color: #3B4455;\n",
              "      --disabled-fill-color: #666;\n",
              "  }\n",
              "\n",
              "  .colab-df-quickchart {\n",
              "    background-color: var(--bg-color);\n",
              "    border: none;\n",
              "    border-radius: 50%;\n",
              "    cursor: pointer;\n",
              "    display: none;\n",
              "    fill: var(--fill-color);\n",
              "    height: 32px;\n",
              "    padding: 0;\n",
              "    width: 32px;\n",
              "  }\n",
              "\n",
              "  .colab-df-quickchart:hover {\n",
              "    background-color: var(--hover-bg-color);\n",
              "    box-shadow: 0 1px 2px rgba(60, 64, 67, 0.3), 0 1px 3px 1px rgba(60, 64, 67, 0.15);\n",
              "    fill: var(--button-hover-fill-color);\n",
              "  }\n",
              "\n",
              "  .colab-df-quickchart-complete:disabled,\n",
              "  .colab-df-quickchart-complete:disabled:hover {\n",
              "    background-color: var(--disabled-bg-color);\n",
              "    fill: var(--disabled-fill-color);\n",
              "    box-shadow: none;\n",
              "  }\n",
              "\n",
              "  .colab-df-spinner {\n",
              "    border: 2px solid var(--fill-color);\n",
              "    border-color: transparent;\n",
              "    border-bottom-color: var(--fill-color);\n",
              "    animation:\n",
              "      spin 1s steps(1) infinite;\n",
              "  }\n",
              "\n",
              "  @keyframes spin {\n",
              "    0% {\n",
              "      border-color: transparent;\n",
              "      border-bottom-color: var(--fill-color);\n",
              "      border-left-color: var(--fill-color);\n",
              "    }\n",
              "    20% {\n",
              "      border-color: transparent;\n",
              "      border-left-color: var(--fill-color);\n",
              "      border-top-color: var(--fill-color);\n",
              "    }\n",
              "    30% {\n",
              "      border-color: transparent;\n",
              "      border-left-color: var(--fill-color);\n",
              "      border-top-color: var(--fill-color);\n",
              "      border-right-color: var(--fill-color);\n",
              "    }\n",
              "    40% {\n",
              "      border-color: transparent;\n",
              "      border-right-color: var(--fill-color);\n",
              "      border-top-color: var(--fill-color);\n",
              "    }\n",
              "    60% {\n",
              "      border-color: transparent;\n",
              "      border-right-color: var(--fill-color);\n",
              "    }\n",
              "    80% {\n",
              "      border-color: transparent;\n",
              "      border-right-color: var(--fill-color);\n",
              "      border-bottom-color: var(--fill-color);\n",
              "    }\n",
              "    90% {\n",
              "      border-color: transparent;\n",
              "      border-bottom-color: var(--fill-color);\n",
              "    }\n",
              "  }\n",
              "</style>\n",
              "\n",
              "  <script>\n",
              "    async function quickchart(key) {\n",
              "      const quickchartButtonEl =\n",
              "        document.querySelector('#' + key + ' button');\n",
              "      quickchartButtonEl.disabled = true;  // To prevent multiple clicks.\n",
              "      quickchartButtonEl.classList.add('colab-df-spinner');\n",
              "      try {\n",
              "        const charts = await google.colab.kernel.invokeFunction(\n",
              "            'suggestCharts', [key], {});\n",
              "      } catch (error) {\n",
              "        console.error('Error during call to suggestCharts:', error);\n",
              "      }\n",
              "      quickchartButtonEl.classList.remove('colab-df-spinner');\n",
              "      quickchartButtonEl.classList.add('colab-df-quickchart-complete');\n",
              "    }\n",
              "    (() => {\n",
              "      let quickchartButtonEl =\n",
              "        document.querySelector('#df-d2b94200-5400-4547-95bf-e1c9ff73f5a6 button');\n",
              "      quickchartButtonEl.style.display =\n",
              "        google.colab.kernel.accessAllowed ? 'block' : 'none';\n",
              "    })();\n",
              "  </script>\n",
              "</div>\n",
              "\n",
              "    </div>\n",
              "  </div>\n"
            ],
            "application/vnd.google.colaboratory.intrinsic+json": {
              "type": "dataframe",
              "summary": "{\n  \"name\": \"df\",\n  \"rows\": 8,\n  \"fields\": [\n    {\n      \"column\": \"Length\",\n      \"properties\": {\n        \"dtype\": \"number\",\n        \"std\": 1476.6337327640701,\n        \"min\": 0.075,\n        \"max\": 4177.0,\n        \"num_unique_values\": 8,\n        \"samples\": [\n          0.5239920995930094,\n          0.545,\n          4177.0\n        ],\n        \"semantic_type\": \"\",\n        \"description\": \"\"\n      }\n    },\n    {\n      \"column\": \"Diameter\",\n      \"properties\": {\n        \"dtype\": \"number\",\n        \"std\": 1476.6679169284005,\n        \"min\": 0.055,\n        \"max\": 4177.0,\n        \"num_unique_values\": 8,\n        \"samples\": [\n          0.40788125448886764,\n          0.425,\n          4177.0\n        ],\n        \"semantic_type\": \"\",\n        \"description\": \"\"\n      }\n    },\n    {\n      \"column\": \"Height\",\n      \"properties\": {\n        \"dtype\": \"number\",\n        \"std\": 1476.705111439784,\n        \"min\": 0.0,\n        \"max\": 4177.0,\n        \"num_unique_values\": 8,\n        \"samples\": [\n          0.13951639932966242,\n          0.14,\n          4177.0\n        ],\n        \"semantic_type\": \"\",\n        \"description\": \"\"\n      }\n    },\n    {\n      \"column\": \"Whole weight\",\n      \"properties\": {\n        \"dtype\": \"number\",\n        \"std\": 1476.4624008415421,\n        \"min\": 0.002,\n        \"max\": 4177.0,\n        \"num_unique_values\": 8,\n        \"samples\": [\n          0.8287421594445774,\n          0.7995,\n          4177.0\n        ],\n        \"semantic_type\": \"\",\n        \"description\": \"\"\n      }\n    },\n    {\n      \"column\": \"Shucked weight\",\n      \"properties\": {\n        \"dtype\": \"number\",\n        \"std\": 1476.6362941125883,\n        \"min\": 0.001,\n        \"max\": 4177.0,\n        \"num_unique_values\": 8,\n        \"samples\": [\n          0.35936748862820206,\n          0.336,\n          4177.0\n        ],\n        \"semantic_type\": \"\",\n        \"description\": \"\"\n      }\n    },\n    {\n      \"column\": \"Viscera weight\",\n      \"properties\": {\n        \"dtype\": \"number\",\n        \"std\": 1476.7133240871924,\n        \"min\": 0.0005,\n        \"max\": 4177.0,\n        \"num_unique_values\": 8,\n        \"samples\": [\n          0.1805936078525257,\n          0.171,\n          4177.0\n        ],\n        \"semantic_type\": \"\",\n        \"description\": \"\"\n      }\n    },\n    {\n      \"column\": \"Shell weight\",\n      \"properties\": {\n        \"dtype\": \"number\",\n        \"std\": 1476.6876126479815,\n        \"min\": 0.0015,\n        \"max\": 4177.0,\n        \"num_unique_values\": 8,\n        \"samples\": [\n          0.23883085946851804,\n          0.234,\n          4177.0\n        ],\n        \"semantic_type\": \"\",\n        \"description\": \"\"\n      }\n    },\n    {\n      \"column\": \"Rings\",\n      \"properties\": {\n        \"dtype\": \"number\",\n        \"std\": 1473.222436401964,\n        \"min\": 1.0,\n        \"max\": 4177.0,\n        \"num_unique_values\": 8,\n        \"samples\": [\n          9.933684462532918,\n          9.0,\n          4177.0\n        ],\n        \"semantic_type\": \"\",\n        \"description\": \"\"\n      }\n    }\n  ]\n}"
            }
          },
          "metadata": {},
          "execution_count": 58
        }
      ]
    },
    {
      "cell_type": "code",
      "source": [
        "# 시각화하기\n",
        "# Whole weight, length 데이터로 산점도 출력하기\n",
        "plt.scatter(df['Whole weight'],df['Length'], color='green')\n",
        "plt.xlabel('Whole weight')\n",
        "plt.ylabel('length')\n",
        "plt.grid()\n",
        "plt.show()"
      ],
      "metadata": {
        "colab": {
          "base_uri": "https://localhost:8080/",
          "height": 449
        },
        "id": "yl7dAMaqx4Hm",
        "outputId": "89dfa55d-f8ca-4ff8-cc63-b1729d56b71c"
      },
      "execution_count": null,
      "outputs": [
        {
          "output_type": "display_data",
          "data": {
            "text/plain": [
              "<Figure size 640x480 with 1 Axes>"
            ],
            "image/png": "[encoded data removed]"
          },
          "metadata": {}
        }
      ]
    },
    {
      "cell_type": "code",
      "source": [
        "# 시각화하기\n",
        "# Length, Diameter 데이터로 산점도 출력하기\n",
        "plt.scatter(df['Length'],df['Diameter'], color='y')\n",
        "plt.xlabel('Length')\n",
        "plt.ylabel('Diameter')\n",
        "plt.grid()\n",
        "plt.show()"
      ],
      "metadata": {
        "colab": {
          "base_uri": "https://localhost:8080/",
          "height": 449
        },
        "id": "RXCnhM2vjUgd",
        "outputId": "2c7c8a7e-055e-46c6-a2b2-7962285f222c"
      },
      "execution_count": null,
      "outputs": [
        {
          "output_type": "display_data",
          "data": {
            "text/plain": [
              "<Figure size 640x480 with 1 Axes>"
            ],
            "image/png": "[encoded data removed]"
          },
          "metadata": {}
        }
      ]
    },
    {
      "cell_type": "code",
      "source": [
        "# 씨본으로 시각화\n",
        "ax=sns.scatterplot(x=df['Length'], y=df['Diameter'], color='y')\n",
        "ax.set(xlabel='Length', ylabel='Diameter')\n",
        "plt.show()"
      ],
      "metadata": {
        "colab": {
          "base_uri": "https://localhost:8080/",
          "height": 449
        },
        "id": "T4sAE-SgjOqJ",
        "outputId": "20392fea-2398-415a-c19b-4e9e70d179d1"
      },
      "execution_count": null,
      "outputs": [
        {
          "output_type": "display_data",
          "data": {
            "text/plain": [
              "<Figure size 640x480 with 1 Axes>"
            ],
            "image/png": "[encoded data removed]"
          },
          "metadata": {}
        }
      ]
    },
    {
      "cell_type": "markdown",
      "source": [
        "# 상관관계\n",
        "- -1~1사이의 값을 가짐\n",
        "- 절대값이 1에 가까울수록 상관관계가 높음\n",
        "- 0에 가까울수록 상관관계가 낮음\n",
        "- 학습에 사용하는 데이터셋은 상관관계가 높을수록 정확도가 높아짐\n",
        "![상관관계.PNG](data:image/png;base64,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)"
      ],
      "metadata": {
        "id": "LTimPoss5oz9"
      }
    },
    {
      "cell_type": "code",
      "source": [
        "#성별은 문자이므로 일단 제외\n",
        "#머신러닝은 수치데이터만 학습과 연산이 가능함\n",
        "#전체 행, 1번 이후 열만 추출\n",
        "df2=df.iloc[:,1:]\n",
        "df2"
      ],
      "metadata": {
        "colab": {
          "base_uri": "https://localhost:8080/",
          "height": 423
        },
        "id": "OVUITCyuiknj",
        "outputId": "7acdee5c-cf5b-48c5-f6e8-10224ceed9e9"
      },
      "execution_count": null,
      "outputs": [
        {
          "output_type": "execute_result",
          "data": {
            "text/plain": [
              "      Length  Diameter  Height  Whole weight  Shucked weight  Viscera weight  \\\n",
              "0      0.455     0.365   0.095        0.5140          0.2245          0.1010   \n",
              "1      0.350     0.265   0.090        0.2255          0.0995          0.0485   \n",
              "2      0.530     0.420   0.135        0.6770          0.2565          0.1415   \n",
              "3      0.440     0.365   0.125        0.5160          0.2155          0.1140   \n",
              "4      0.330     0.255   0.080        0.2050          0.0895          0.0395   \n",
              "...      ...       ...     ...           ...             ...             ...   \n",
              "4172   0.565     0.450   0.165        0.8870          0.3700          0.2390   \n",
              "4173   0.590     0.440   0.135        0.9660          0.4390          0.2145   \n",
              "4174   0.600     0.475   0.205        1.1760          0.5255          0.2875   \n",
              "4175   0.625     0.485   0.150        1.0945          0.5310          0.2610   \n",
              "4176   0.710     0.555   0.195        1.9485          0.9455          0.3765   \n",
              "\n",
              "      Shell weight  Rings  \n",
              "0           0.1500     15  \n",
              "1           0.0700      7  \n",
              "2           0.2100      9  \n",
              "3           0.1550     10  \n",
              "4           0.0550      7  \n",
              "...            ...    ...  \n",
              "4172        0.2490     11  \n",
              "4173        0.2605     10  \n",
              "4174        0.3080      9  \n",
              "4175        0.2960     10  \n",
              "4176        0.4950     12  \n",
              "\n",
              "[4177 rows x 8 columns]"
            ],
            "text/html": [
              "\n",
              "  <div id=\"df-483d2e06-8d3c-4f75-9c28-56a808223032\" class=\"colab-df-container\">\n",
              "    <div>\n",
              "<style scoped>\n",
              "    .dataframe tbody tr th:only-of-type {\n",
              "        vertical-align: middle;\n",
              "    }\n",
              "\n",
              "    .dataframe tbody tr th {\n",
              "        vertical-align: top;\n",
              "    }\n",
              "\n",
              "    .dataframe thead th {\n",
              "        text-align: right;\n",
              "    }\n",
              "</style>\n",
              "<table border=\"1\" class=\"dataframe\">\n",
              "  <thead>\n",
              "    <tr style=\"text-align: right;\">\n",
              "      <th></th>\n",
              "      <th>Length</th>\n",
              "      <th>Diameter</th>\n",
              "      <th>Height</th>\n",
              "      <th>Whole weight</th>\n",
              "      <th>Shucked weight</th>\n",
              "      <th>Viscera weight</th>\n",
              "      <th>Shell weight</th>\n",
              "      <th>Rings</th>\n",
              "    </tr>\n",
              "  </thead>\n",
              "  <tbody>\n",
              "    <tr>\n",
              "      <th>0</th>\n",
              "      <td>0.455</td>\n",
              "      <td>0.365</td>\n",
              "      <td>0.095</td>\n",
              "      <td>0.5140</td>\n",
              "      <td>0.2245</td>\n",
              "      <td>0.1010</td>\n",
              "      <td>0.1500</td>\n",
              "      <td>15</td>\n",
              "    </tr>\n",
              "    <tr>\n",
              "      <th>1</th>\n",
              "      <td>0.350</td>\n",
              "      <td>0.265</td>\n",
              "      <td>0.090</td>\n",
              "      <td>0.2255</td>\n",
              "      <td>0.0995</td>\n",
              "      <td>0.0485</td>\n",
              "      <td>0.0700</td>\n",
              "      <td>7</td>\n",
              "    </tr>\n",
              "    <tr>\n",
              "      <th>2</th>\n",
              "      <td>0.530</td>\n",
              "      <td>0.420</td>\n",
              "      <td>0.135</td>\n",
              "      <td>0.6770</td>\n",
              "      <td>0.2565</td>\n",
              "      <td>0.1415</td>\n",
              "      <td>0.2100</td>\n",
              "      <td>9</td>\n",
              "    </tr>\n",
              "    <tr>\n",
              "      <th>3</th>\n",
              "      <td>0.440</td>\n",
              "      <td>0.365</td>\n",
              "      <td>0.125</td>\n",
              "      <td>0.5160</td>\n",
              "      <td>0.2155</td>\n",
              "      <td>0.1140</td>\n",
              "      <td>0.1550</td>\n",
              "      <td>10</td>\n",
              "    </tr>\n",
              "    <tr>\n",
              "      <th>4</th>\n",
              "      <td>0.330</td>\n",
              "      <td>0.255</td>\n",
              "      <td>0.080</td>\n",
              "      <td>0.2050</td>\n",
              "      <td>0.0895</td>\n",
              "      <td>0.0395</td>\n",
              "      <td>0.0550</td>\n",
              "      <td>7</td>\n",
              "    </tr>\n",
              "    <tr>\n",
              "      <th>...</th>\n",
              "      <td>...</td>\n",
              "      <td>...</td>\n",
              "      <td>...</td>\n",
              "      <td>...</td>\n",
              "      <td>...</td>\n",
              "      <td>...</td>\n",
              "      <td>...</td>\n",
              "      <td>...</td>\n",
              "    </tr>\n",
              "    <tr>\n",
              "      <th>4172</th>\n",
              "      <td>0.565</td>\n",
              "      <td>0.450</td>\n",
              "      <td>0.165</td>\n",
              "      <td>0.8870</td>\n",
              "      <td>0.3700</td>\n",
              "      <td>0.2390</td>\n",
              "      <td>0.2490</td>\n",
              "      <td>11</td>\n",
              "    </tr>\n",
              "    <tr>\n",
              "      <th>4173</th>\n",
              "      <td>0.590</td>\n",
              "      <td>0.440</td>\n",
              "      <td>0.135</td>\n",
              "      <td>0.9660</td>\n",
              "      <td>0.4390</td>\n",
              "      <td>0.2145</td>\n",
              "      <td>0.2605</td>\n",
              "      <td>10</td>\n",
              "    </tr>\n",
              "    <tr>\n",
              "      <th>4174</th>\n",
              "      <td>0.600</td>\n",
              "      <td>0.475</td>\n",
              "      <td>0.205</td>\n",
              "      <td>1.1760</td>\n",
              "      <td>0.5255</td>\n",
              "      <td>0.2875</td>\n",
              "      <td>0.3080</td>\n",
              "      <td>9</td>\n",
              "    </tr>\n",
              "    <tr>\n",
              "      <th>4175</th>\n",
              "      <td>0.625</td>\n",
              "      <td>0.485</td>\n",
              "      <td>0.150</td>\n",
              "      <td>1.0945</td>\n",
              "      <td>0.5310</td>\n",
              "      <td>0.2610</td>\n",
              "      <td>0.2960</td>\n",
              "      <td>10</td>\n",
              "    </tr>\n",
              "    <tr>\n",
              "      <th>4176</th>\n",
              "      <td>0.710</td>\n",
              "      <td>0.555</td>\n",
              "      <td>0.195</td>\n",
              "      <td>1.9485</td>\n",
              "      <td>0.9455</td>\n",
              "      <td>0.3765</td>\n",
              "      <td>0.4950</td>\n",
              "      <td>12</td>\n",
              "    </tr>\n",
              "  </tbody>\n",
              "</table>\n",
              "<p>4177 rows × 8 columns</p>\n",
              "</div>\n",
              "    <div class=\"colab-df-buttons\">\n",
              "\n",
              "  <div class=\"colab-df-container\">\n",
              "    <button class=\"colab-df-convert\" onclick=\"convertToInteractive('df-483d2e06-8d3c-4f75-9c28-56a808223032')\"\n",
              "            title=\"Convert this dataframe to an interactive table.\"\n",
              "            style=\"display:none;\">\n",
              "\n",
              "  <svg xmlns=\"http://www.w3.org/2000/svg\" height=\"24px\" viewBox=\"0 -960 960 960\">\n",
              "    <path d=\"M120-120v-720h720v720H120Zm60-500h600v-160H180v160Zm220 220h160v-160H400v160Zm0 220h160v-160H400v160ZM180-400h160v-160H180v160Zm440 0h160v-160H620v160ZM180-180h160v-160H180v160Zm440 0h160v-160H620v160Z\"/>\n",
              "  </svg>\n",
              "    </button>\n",
              "\n",
              "  <style>\n",
              "    .colab-df-container {\n",
              "      display:flex;\n",
              "      gap: 12px;\n",
              "    }\n",
              "\n",
              "    .colab-df-convert {\n",
              "      background-color: #E8F0FE;\n",
              "      border: none;\n",
              "      border-radius: 50%;\n",
              "      cursor: pointer;\n",
              "      display: none;\n",
              "      fill: #1967D2;\n",
              "      height: 32px;\n",
              "      padding: 0 0 0 0;\n",
              "      width: 32px;\n",
              "    }\n",
              "\n",
              "    .colab-df-convert:hover {\n",
              "      background-color: #E2EBFA;\n",
              "      box-shadow: 0px 1px 2px rgba(60, 64, 67, 0.3), 0px 1px 3px 1px rgba(60, 64, 67, 0.15);\n",
              "      fill: #174EA6;\n",
              "    }\n",
              "\n",
              "    .colab-df-buttons div {\n",
              "      margin-bottom: 4px;\n",
              "    }\n",
              "\n",
              "    [theme=dark] .colab-df-convert {\n",
              "      background-color: #3B4455;\n",
              "      fill: #D2E3FC;\n",
              "    }\n",
              "\n",
              "    [theme=dark] .colab-df-convert:hover {\n",
              "      background-color: #434B5C;\n",
              "      box-shadow: 0px 1px 3px 1px rgba(0, 0, 0, 0.15);\n",
              "      filter: drop-shadow(0px 1px 2px rgba(0, 0, 0, 0.3));\n",
              "      fill: #FFFFFF;\n",
              "    }\n",
              "  </style>\n",
              "\n",
              "    <script>\n",
              "      const buttonEl =\n",
              "        document.querySelector('#df-483d2e06-8d3c-4f75-9c28-56a808223032 button.colab-df-convert');\n",
              "      buttonEl.style.display =\n",
              "        google.colab.kernel.accessAllowed ? 'block' : 'none';\n",
              "\n",
              "      async function convertToInteractive(key) {\n",
              "        const element = document.querySelector('#df-483d2e06-8d3c-4f75-9c28-56a808223032');\n",
              "        const dataTable =\n",
              "          await google.colab.kernel.invokeFunction('convertToInteractive',\n",
              "                                                    [key], {});\n",
              "        if (!dataTable) return;\n",
              "\n",
              "        const docLinkHtml = 'Like what you see? Visit the ' +\n",
              "          '<a target=\"_blank\" href=https://colab.research.google.com/notebooks/data_table.ipynb>data table notebook</a>'\n",
              "          + ' to learn more about interactive tables.';\n",
              "        element.innerHTML = '';\n",
              "        dataTable['output_type'] = 'display_data';\n",
              "        await google.colab.output.renderOutput(dataTable, element);\n",
              "        const docLink = document.createElement('div');\n",
              "        docLink.innerHTML = docLinkHtml;\n",
              "        element.appendChild(docLink);\n",
              "      }\n",
              "    </script>\n",
              "  </div>\n",
              "\n",
              "\n",
              "<div id=\"df-ef42e2c0-47b1-474d-9696-ae46814f607e\">\n",
              "  <button class=\"colab-df-quickchart\" onclick=\"quickchart('df-ef42e2c0-47b1-474d-9696-ae46814f607e')\"\n",
              "            title=\"Suggest charts\"\n",
              "            style=\"display:none;\">\n",
              "\n",
              "<svg xmlns=\"http://www.w3.org/2000/svg\" height=\"24px\"viewBox=\"0 0 24 24\"\n",
              "     width=\"24px\">\n",
              "    <g>\n",
              "        <path d=\"M19 3H5c-1.1 0-2 .9-2 2v14c0 1.1.9 2 2 2h14c1.1 0 2-.9 2-2V5c0-1.1-.9-2-2-2zM9 17H7v-7h2v7zm4 0h-2V7h2v10zm4 0h-2v-4h2v4z\"/>\n",
              "    </g>\n",
              "</svg>\n",
              "  </button>\n",
              "\n",
              "<style>\n",
              "  .colab-df-quickchart {\n",
              "      --bg-color: #E8F0FE;\n",
              "      --fill-color: #1967D2;\n",
              "      --hover-bg-color: #E2EBFA;\n",
              "      --hover-fill-color: #174EA6;\n",
              "      --disabled-fill-color: #AAA;\n",
              "      --disabled-bg-color: #DDD;\n",
              "  }\n",
              "\n",
              "  [theme=dark] .colab-df-quickchart {\n",
              "      --bg-color: #3B4455;\n",
              "      --fill-color: #D2E3FC;\n",
              "      --hover-bg-color: #434B5C;\n",
              "      --hover-fill-color: #FFFFFF;\n",
              "      --disabled-bg-color: #3B4455;\n",
              "      --disabled-fill-color: #666;\n",
              "  }\n",
              "\n",
              "  .colab-df-quickchart {\n",
              "    background-color: var(--bg-color);\n",
              "    border: none;\n",
              "    border-radius: 50%;\n",
              "    cursor: pointer;\n",
              "    display: none;\n",
              "    fill: var(--fill-color);\n",
              "    height: 32px;\n",
              "    padding: 0;\n",
              "    width: 32px;\n",
              "  }\n",
              "\n",
              "  .colab-df-quickchart:hover {\n",
              "    background-color: var(--hover-bg-color);\n",
              "    box-shadow: 0 1px 2px rgba(60, 64, 67, 0.3), 0 1px 3px 1px rgba(60, 64, 67, 0.15);\n",
              "    fill: var(--button-hover-fill-color);\n",
              "  }\n",
              "\n",
              "  .colab-df-quickchart-complete:disabled,\n",
              "  .colab-df-quickchart-complete:disabled:hover {\n",
              "    background-color: var(--disabled-bg-color);\n",
              "    fill: var(--disabled-fill-color);\n",
              "    box-shadow: none;\n",
              "  }\n",
              "\n",
              "  .colab-df-spinner {\n",
              "    border: 2px solid var(--fill-color);\n",
              "    border-color: transparent;\n",
              "    border-bottom-color: var(--fill-color);\n",
              "    animation:\n",
              "      spin 1s steps(1) infinite;\n",
              "  }\n",
              "\n",
              "  @keyframes spin {\n",
              "    0% {\n",
              "      border-color: transparent;\n",
              "      border-bottom-color: var(--fill-color);\n",
              "      border-left-color: var(--fill-color);\n",
              "    }\n",
              "    20% {\n",
              "      border-color: transparent;\n",
              "      border-left-color: var(--fill-color);\n",
              "      border-top-color: var(--fill-color);\n",
              "    }\n",
              "    30% {\n",
              "      border-color: transparent;\n",
              "      border-left-color: var(--fill-color);\n",
              "      border-top-color: var(--fill-color);\n",
              "      border-right-color: var(--fill-color);\n",
              "    }\n",
              "    40% {\n",
              "      border-color: transparent;\n",
              "      border-right-color: var(--fill-color);\n",
              "      border-top-color: var(--fill-color);\n",
              "    }\n",
              "    60% {\n",
              "      border-color: transparent;\n",
              "      border-right-color: var(--fill-color);\n",
              "    }\n",
              "    80% {\n",
              "      border-color: transparent;\n",
              "      border-right-color: var(--fill-color);\n",
              "      border-bottom-color: var(--fill-color);\n",
              "    }\n",
              "    90% {\n",
              "      border-color: transparent;\n",
              "      border-bottom-color: var(--fill-color);\n",
              "    }\n",
              "  }\n",
              "</style>\n",
              "\n",
              "  <script>\n",
              "    async function quickchart(key) {\n",
              "      const quickchartButtonEl =\n",
              "        document.querySelector('#' + key + ' button');\n",
              "      quickchartButtonEl.disabled = true;  // To prevent multiple clicks.\n",
              "      quickchartButtonEl.classList.add('colab-df-spinner');\n",
              "      try {\n",
              "        const charts = await google.colab.kernel.invokeFunction(\n",
              "            'suggestCharts', [key], {});\n",
              "      } catch (error) {\n",
              "        console.error('Error during call to suggestCharts:', error);\n",
              "      }\n",
              "      quickchartButtonEl.classList.remove('colab-df-spinner');\n",
              "      quickchartButtonEl.classList.add('colab-df-quickchart-complete');\n",
              "    }\n",
              "    (() => {\n",
              "      let quickchartButtonEl =\n",
              "        document.querySelector('#df-ef42e2c0-47b1-474d-9696-ae46814f607e button');\n",
              "      quickchartButtonEl.style.display =\n",
              "        google.colab.kernel.accessAllowed ? 'block' : 'none';\n",
              "    })();\n",
              "  </script>\n",
              "</div>\n",
              "\n",
              "  <div id=\"id_7571e020-2b20-40ea-969c-e14de19609c0\">\n",
              "    <style>\n",
              "      .colab-df-generate {\n",
              "        background-color: #E8F0FE;\n",
              "        border: none;\n",
              "        border-radius: 50%;\n",
              "        cursor: pointer;\n",
              "        display: none;\n",
              "        fill: #1967D2;\n",
              "        height: 32px;\n",
              "        padding: 0 0 0 0;\n",
              "        width: 32px;\n",
              "      }\n",
              "\n",
              "      .colab-df-generate:hover {\n",
              "        background-color: #E2EBFA;\n",
              "        box-shadow: 0px 1px 2px rgba(60, 64, 67, 0.3), 0px 1px 3px 1px rgba(60, 64, 67, 0.15);\n",
              "        fill: #174EA6;\n",
              "      }\n",
              "\n",
              "      [theme=dark] .colab-df-generate {\n",
              "        background-color: #3B4455;\n",
              "        fill: #D2E3FC;\n",
              "      }\n",
              "\n",
              "      [theme=dark] .colab-df-generate:hover {\n",
              "        background-color: #434B5C;\n",
              "        box-shadow: 0px 1px 3px 1px rgba(0, 0, 0, 0.15);\n",
              "        filter: drop-shadow(0px 1px 2px rgba(0, 0, 0, 0.3));\n",
              "        fill: #FFFFFF;\n",
              "      }\n",
              "    </style>\n",
              "    <button class=\"colab-df-generate\" onclick=\"generateWithVariable('df2')\"\n",
              "            title=\"Generate code using this dataframe.\"\n",
              "            style=\"display:none;\">\n",
              "\n",
              "  <svg xmlns=\"http://www.w3.org/2000/svg\" height=\"24px\"viewBox=\"0 0 24 24\"\n",
              "       width=\"24px\">\n",
              "    <path d=\"M7,19H8.4L18.45,9,17,7.55,7,17.6ZM5,21V16.75L18.45,3.32a2,2,0,0,1,2.83,0l1.4,1.43a1.91,1.91,0,0,1,.58,1.4,1.91,1.91,0,0,1-.58,1.4L9.25,21ZM18.45,9,17,7.55Zm-12,3A5.31,5.31,0,0,0,4.9,8.1,5.31,5.31,0,0,0,1,6.5,5.31,5.31,0,0,0,4.9,4.9,5.31,5.31,0,0,0,6.5,1,5.31,5.31,0,0,0,8.1,4.9,5.31,5.31,0,0,0,12,6.5,5.46,5.46,0,0,0,6.5,12Z\"/>\n",
              "  </svg>\n",
              "    </button>\n",
              "    <script>\n",
              "      (() => {\n",
              "      const buttonEl =\n",
              "        document.querySelector('#id_7571e020-2b20-40ea-969c-e14de19609c0 button.colab-df-generate');\n",
              "      buttonEl.style.display =\n",
              "        google.colab.kernel.accessAllowed ? 'block' : 'none';\n",
              "\n",
              "      buttonEl.onclick = () => {\n",
              "        google.colab.notebook.generateWithVariable('df2');\n",
              "      }\n",
              "      })();\n",
              "    </script>\n",
              "  </div>\n",
              "\n",
              "    </div>\n",
              "  </div>\n"
            ],
            "application/vnd.google.colaboratory.intrinsic+json": {
              "type": "dataframe",
              "variable_name": "df2",
              "summary": "{\n  \"name\": \"df2\",\n  \"rows\": 4177,\n  \"fields\": [\n    {\n      \"column\": \"Length\",\n      \"properties\": {\n        \"dtype\": \"number\",\n        \"std\": 0.12009291256479956,\n        \"min\": 0.075,\n        \"max\": 0.815,\n        \"num_unique_values\": 134,\n        \"samples\": [\n          0.815,\n          0.65,\n          0.29\n        ],\n        \"semantic_type\": \"\",\n        \"description\": \"\"\n      }\n    },\n    {\n      \"column\": \"Diameter\",\n      \"properties\": {\n        \"dtype\": \"number\",\n        \"std\": 0.09923986613365945,\n        \"min\": 0.055,\n        \"max\": 0.65,\n        \"num_unique_values\": 111,\n        \"samples\": [\n          0.09,\n          0.35,\n          0.3\n        ],\n        \"semantic_type\": \"\",\n        \"description\": \"\"\n      }\n    },\n    {\n      \"column\": \"Height\",\n      \"properties\": {\n        \"dtype\": \"number\",\n        \"std\": 0.041827056607257274,\n        \"min\": 0.0,\n        \"max\": 1.13,\n        \"num_unique_values\": 51,\n        \"samples\": [\n          0.235,\n          0.035,\n          0.015\n        ],\n        \"semantic_type\": \"\",\n        \"description\": \"\"\n      }\n    },\n    {\n      \"column\": \"Whole weight\",\n      \"properties\": {\n        \"dtype\": \"number\",\n        \"std\": 0.4903890182309977,\n        \"min\": 0.002,\n        \"max\": 2.8255,\n        \"num_unique_values\": 2429,\n        \"samples\": [\n          1.2825,\n          1.09,\n          0.131\n        ],\n        \"semantic_type\": \"\",\n        \"description\": \"\"\n      }\n    },\n    {\n      \"column\": \"Shucked weight\",\n      \"properties\": {\n        \"dtype\": \"number\",\n        \"std\": 0.22196294903322014,\n        \"min\": 0.001,\n        \"max\": 1.488,\n        \"num_unique_values\": 1515,\n        \"samples\": [\n          0.2105,\n          0.0645,\n          0.476\n        ],\n        \"semantic_type\": \"\",\n        \"description\": \"\"\n      }\n    },\n    {\n      \"column\": \"Viscera weight\",\n      \"properties\": {\n        \"dtype\": \"number\",\n        \"std\": 0.10961425025968446,\n        \"min\": 0.0005,\n        \"max\": 0.76,\n        \"num_unique_values\": 880,\n        \"samples\": [\n          0.0645,\n          0.0095,\n          0.1115\n        ],\n        \"semantic_type\": \"\",\n        \"description\": \"\"\n      }\n    },\n    {\n      \"column\": \"Shell weight\",\n      \"properties\": {\n        \"dtype\": \"number\",\n        \"std\": 0.1392026695223861,\n        \"min\": 0.0015,\n        \"max\": 1.005,\n        \"num_unique_values\": 926,\n        \"samples\": [\n          0.3745,\n          0.2825,\n          0.49\n        ],\n        \"semantic_type\": \"\",\n        \"description\": \"\"\n      }\n    },\n    {\n      \"column\": \"Rings\",\n      \"properties\": {\n        \"dtype\": \"number\",\n        \"std\": 3,\n        \"min\": 1,\n        \"max\": 29,\n        \"num_unique_values\": 28,\n        \"samples\": [\n          11,\n          27,\n          14\n        ],\n        \"semantic_type\": \"\",\n        \"description\": \"\"\n      }\n    }\n  ]\n}"
            }
          },
          "metadata": {},
          "execution_count": 62
        }
      ]
    },
    {
      "cell_type": "code",
      "source": [
        "#상관관계 계수\n",
        "df2.corr()"
      ],
      "metadata": {
        "colab": {
          "base_uri": "https://localhost:8080/",
          "height": 300
        },
        "id": "u6fVqIQKimhR",
        "outputId": "ef7302d9-26de-4065-e0db-e2ced3365123"
      },
      "execution_count": null,
      "outputs": [
        {
          "output_type": "execute_result",
          "data": {
            "text/plain": [
              "                  Length  Diameter    Height  Whole weight  Shucked weight  \\\n",
              "Length          1.000000  0.986812  0.827554      0.925261        0.897914   \n",
              "Diameter        0.986812  1.000000  0.833684      0.925452        0.893162   \n",
              "Height          0.827554  0.833684  1.000000      0.819221        0.774972   \n",
              "Whole weight    0.925261  0.925452  0.819221      1.000000        0.969405   \n",
              "Shucked weight  0.897914  0.893162  0.774972      0.969405        1.000000   \n",
              "Viscera weight  0.903018  0.899724  0.798319      0.966375        0.931961   \n",
              "Shell weight    0.897706  0.905330  0.817338      0.955355        0.882617   \n",
              "Rings           0.556720  0.574660  0.557467      0.540390        0.420884   \n",
              "\n",
              "                Viscera weight  Shell weight     Rings  \n",
              "Length                0.903018      0.897706  0.556720  \n",
              "Diameter              0.899724      0.905330  0.574660  \n",
              "Height                0.798319      0.817338  0.557467  \n",
              "Whole weight          0.966375      0.955355  0.540390  \n",
              "Shucked weight        0.931961      0.882617  0.420884  \n",
              "Viscera weight        1.000000      0.907656  0.503819  \n",
              "Shell weight          0.907656      1.000000  0.627574  \n",
              "Rings                 0.503819      0.627574  1.000000  "
            ],
            "text/html": [
              "\n",
              "  <div id=\"df-f1a8460c-faf7-43f5-bf61-58dc25847bdb\" class=\"colab-df-container\">\n",
              "    <div>\n",
              "<style scoped>\n",
              "    .dataframe tbody tr th:only-of-type {\n",
              "        vertical-align: middle;\n",
              "    }\n",
              "\n",
              "    .dataframe tbody tr th {\n",
              "        vertical-align: top;\n",
              "    }\n",
              "\n",
              "    .dataframe thead th {\n",
              "        text-align: right;\n",
              "    }\n",
              "</style>\n",
              "<table border=\"1\" class=\"dataframe\">\n",
              "  <thead>\n",
              "    <tr style=\"text-align: right;\">\n",
              "      <th></th>\n",
              "      <th>Length</th>\n",
              "      <th>Diameter</th>\n",
              "      <th>Height</th>\n",
              "      <th>Whole weight</th>\n",
              "      <th>Shucked weight</th>\n",
              "      <th>Viscera weight</th>\n",
              "      <th>Shell weight</th>\n",
              "      <th>Rings</th>\n",
              "    </tr>\n",
              "  </thead>\n",
              "  <tbody>\n",
              "    <tr>\n",
              "      <th>Length</th>\n",
              "      <td>1.000000</td>\n",
              "      <td>0.986812</td>\n",
              "      <td>0.827554</td>\n",
              "      <td>0.925261</td>\n",
              "      <td>0.897914</td>\n",
              "      <td>0.903018</td>\n",
              "      <td>0.897706</td>\n",
              "      <td>0.556720</td>\n",
              "    </tr>\n",
              "    <tr>\n",
              "      <th>Diameter</th>\n",
              "      <td>0.986812</td>\n",
              "      <td>1.000000</td>\n",
              "      <td>0.833684</td>\n",
              "      <td>0.925452</td>\n",
              "      <td>0.893162</td>\n",
              "      <td>0.899724</td>\n",
              "      <td>0.905330</td>\n",
              "      <td>0.574660</td>\n",
              "    </tr>\n",
              "    <tr>\n",
              "      <th>Height</th>\n",
              "      <td>0.827554</td>\n",
              "      <td>0.833684</td>\n",
              "      <td>1.000000</td>\n",
              "      <td>0.819221</td>\n",
              "      <td>0.774972</td>\n",
              "      <td>0.798319</td>\n",
              "      <td>0.817338</td>\n",
              "      <td>0.557467</td>\n",
              "    </tr>\n",
              "    <tr>\n",
              "      <th>Whole weight</th>\n",
              "      <td>0.925261</td>\n",
              "      <td>0.925452</td>\n",
              "      <td>0.819221</td>\n",
              "      <td>1.000000</td>\n",
              "      <td>0.969405</td>\n",
              "      <td>0.966375</td>\n",
              "      <td>0.955355</td>\n",
              "      <td>0.540390</td>\n",
              "    </tr>\n",
              "    <tr>\n",
              "      <th>Shucked weight</th>\n",
              "      <td>0.897914</td>\n",
              "      <td>0.893162</td>\n",
              "      <td>0.774972</td>\n",
              "      <td>0.969405</td>\n",
              "      <td>1.000000</td>\n",
              "      <td>0.931961</td>\n",
              "      <td>0.882617</td>\n",
              "      <td>0.420884</td>\n",
              "    </tr>\n",
              "    <tr>\n",
              "      <th>Viscera weight</th>\n",
              "      <td>0.903018</td>\n",
              "      <td>0.899724</td>\n",
              "      <td>0.798319</td>\n",
              "      <td>0.966375</td>\n",
              "      <td>0.931961</td>\n",
              "      <td>1.000000</td>\n",
              "      <td>0.907656</td>\n",
              "      <td>0.503819</td>\n",
              "    </tr>\n",
              "    <tr>\n",
              "      <th>Shell weight</th>\n",
              "      <td>0.897706</td>\n",
              "      <td>0.905330</td>\n",
              "      <td>0.817338</td>\n",
              "      <td>0.955355</td>\n",
              "      <td>0.882617</td>\n",
              "      <td>0.907656</td>\n",
              "      <td>1.000000</td>\n",
              "      <td>0.627574</td>\n",
              "    </tr>\n",
              "    <tr>\n",
              "      <th>Rings</th>\n",
              "      <td>0.556720</td>\n",
              "      <td>0.574660</td>\n",
              "      <td>0.557467</td>\n",
              "      <td>0.540390</td>\n",
              "      <td>0.420884</td>\n",
              "      <td>0.503819</td>\n",
              "      <td>0.627574</td>\n",
              "      <td>1.000000</td>\n",
              "    </tr>\n",
              "  </tbody>\n",
              "</table>\n",
              "</div>\n",
              "    <div class=\"colab-df-buttons\">\n",
              "\n",
              "  <div class=\"colab-df-container\">\n",
              "    <button class=\"colab-df-convert\" onclick=\"convertToInteractive('df-f1a8460c-faf7-43f5-bf61-58dc25847bdb')\"\n",
              "            title=\"Convert this dataframe to an interactive table.\"\n",
              "            style=\"display:none;\">\n",
              "\n",
              "  <svg xmlns=\"http://www.w3.org/2000/svg\" height=\"24px\" viewBox=\"0 -960 960 960\">\n",
              "    <path d=\"M120-120v-720h720v720H120Zm60-500h600v-160H180v160Zm220 220h160v-160H400v160Zm0 220h160v-160H400v160ZM180-400h160v-160H180v160Zm440 0h160v-160H620v160ZM180-180h160v-160H180v160Zm440 0h160v-160H620v160Z\"/>\n",
              "  </svg>\n",
              "    </button>\n",
              "\n",
              "  <style>\n",
              "    .colab-df-container {\n",
              "      display:flex;\n",
              "      gap: 12px;\n",
              "    }\n",
              "\n",
              "    .colab-df-convert {\n",
              "      background-color: #E8F0FE;\n",
              "      border: none;\n",
              "      border-radius: 50%;\n",
              "      cursor: pointer;\n",
              "      display: none;\n",
              "      fill: #1967D2;\n",
              "      height: 32px;\n",
              "      padding: 0 0 0 0;\n",
              "      width: 32px;\n",
              "    }\n",
              "\n",
              "    .colab-df-convert:hover {\n",
              "      background-color: #E2EBFA;\n",
              "      box-shadow: 0px 1px 2px rgba(60, 64, 67, 0.3), 0px 1px 3px 1px rgba(60, 64, 67, 0.15);\n",
              "      fill: #174EA6;\n",
              "    }\n",
              "\n",
              "    .colab-df-buttons div {\n",
              "      margin-bottom: 4px;\n",
              "    }\n",
              "\n",
              "    [theme=dark] .colab-df-convert {\n",
              "      background-color: #3B4455;\n",
              "      fill: #D2E3FC;\n",
              "    }\n",
              "\n",
              "    [theme=dark] .colab-df-convert:hover {\n",
              "      background-color: #434B5C;\n",
              "      box-shadow: 0px 1px 3px 1px rgba(0, 0, 0, 0.15);\n",
              "      filter: drop-shadow(0px 1px 2px rgba(0, 0, 0, 0.3));\n",
              "      fill: #FFFFFF;\n",
              "    }\n",
              "  </style>\n",
              "\n",
              "    <script>\n",
              "      const buttonEl =\n",
              "        document.querySelector('#df-f1a8460c-faf7-43f5-bf61-58dc25847bdb button.colab-df-convert');\n",
              "      buttonEl.style.display =\n",
              "        google.colab.kernel.accessAllowed ? 'block' : 'none';\n",
              "\n",
              "      async function convertToInteractive(key) {\n",
              "        const element = document.querySelector('#df-f1a8460c-faf7-43f5-bf61-58dc25847bdb');\n",
              "        const dataTable =\n",
              "          await google.colab.kernel.invokeFunction('convertToInteractive',\n",
              "                                                    [key], {});\n",
              "        if (!dataTable) return;\n",
              "\n",
              "        const docLinkHtml = 'Like what you see? Visit the ' +\n",
              "          '<a target=\"_blank\" href=https://colab.research.google.com/notebooks/data_table.ipynb>data table notebook</a>'\n",
              "          + ' to learn more about interactive tables.';\n",
              "        element.innerHTML = '';\n",
              "        dataTable['output_type'] = 'display_data';\n",
              "        await google.colab.output.renderOutput(dataTable, element);\n",
              "        const docLink = document.createElement('div');\n",
              "        docLink.innerHTML = docLinkHtml;\n",
              "        element.appendChild(docLink);\n",
              "      }\n",
              "    </script>\n",
              "  </div>\n",
              "\n",
              "\n",
              "<div id=\"df-b5d1f805-c85d-4e46-8dbf-907d88e855f8\">\n",
              "  <button class=\"colab-df-quickchart\" onclick=\"quickchart('df-b5d1f805-c85d-4e46-8dbf-907d88e855f8')\"\n",
              "            title=\"Suggest charts\"\n",
              "            style=\"display:none;\">\n",
              "\n",
              "<svg xmlns=\"http://www.w3.org/2000/svg\" height=\"24px\"viewBox=\"0 0 24 24\"\n",
              "     width=\"24px\">\n",
              "    <g>\n",
              "        <path d=\"M19 3H5c-1.1 0-2 .9-2 2v14c0 1.1.9 2 2 2h14c1.1 0 2-.9 2-2V5c0-1.1-.9-2-2-2zM9 17H7v-7h2v7zm4 0h-2V7h2v10zm4 0h-2v-4h2v4z\"/>\n",
              "    </g>\n",
              "</svg>\n",
              "  </button>\n",
              "\n",
              "<style>\n",
              "  .colab-df-quickchart {\n",
              "      --bg-color: #E8F0FE;\n",
              "      --fill-color: #1967D2;\n",
              "      --hover-bg-color: #E2EBFA;\n",
              "      --hover-fill-color: #174EA6;\n",
              "      --disabled-fill-color: #AAA;\n",
              "      --disabled-bg-color: #DDD;\n",
              "  }\n",
              "\n",
              "  [theme=dark] .colab-df-quickchart {\n",
              "      --bg-color: #3B4455;\n",
              "      --fill-color: #D2E3FC;\n",
              "      --hover-bg-color: #434B5C;\n",
              "      --hover-fill-color: #FFFFFF;\n",
              "      --disabled-bg-color: #3B4455;\n",
              "      --disabled-fill-color: #666;\n",
              "  }\n",
              "\n",
              "  .colab-df-quickchart {\n",
              "    background-color: var(--bg-color);\n",
              "    border: none;\n",
              "    border-radius: 50%;\n",
              "    cursor: pointer;\n",
              "    display: none;\n",
              "    fill: var(--fill-color);\n",
              "    height: 32px;\n",
              "    padding: 0;\n",
              "    width: 32px;\n",
              "  }\n",
              "\n",
              "  .colab-df-quickchart:hover {\n",
              "    background-color: var(--hover-bg-color);\n",
              "    box-shadow: 0 1px 2px rgba(60, 64, 67, 0.3), 0 1px 3px 1px rgba(60, 64, 67, 0.15);\n",
              "    fill: var(--button-hover-fill-color);\n",
              "  }\n",
              "\n",
              "  .colab-df-quickchart-complete:disabled,\n",
              "  .colab-df-quickchart-complete:disabled:hover {\n",
              "    background-color: var(--disabled-bg-color);\n",
              "    fill: var(--disabled-fill-color);\n",
              "    box-shadow: none;\n",
              "  }\n",
              "\n",
              "  .colab-df-spinner {\n",
              "    border: 2px solid var(--fill-color);\n",
              "    border-color: transparent;\n",
              "    border-bottom-color: var(--fill-color);\n",
              "    animation:\n",
              "      spin 1s steps(1) infinite;\n",
              "  }\n",
              "\n",
              "  @keyframes spin {\n",
              "    0% {\n",
              "      border-color: transparent;\n",
              "      border-bottom-color: var(--fill-color);\n",
              "      border-left-color: var(--fill-color);\n",
              "    }\n",
              "    20% {\n",
              "      border-color: transparent;\n",
              "      border-left-color: var(--fill-color);\n",
              "      border-top-color: var(--fill-color);\n",
              "    }\n",
              "    30% {\n",
              "      border-color: transparent;\n",
              "      border-left-color: var(--fill-color);\n",
              "      border-top-color: var(--fill-color);\n",
              "      border-right-color: var(--fill-color);\n",
              "    }\n",
              "    40% {\n",
              "      border-color: transparent;\n",
              "      border-right-color: var(--fill-color);\n",
              "      border-top-color: var(--fill-color);\n",
              "    }\n",
              "    60% {\n",
              "      border-color: transparent;\n",
              "      border-right-color: var(--fill-color);\n",
              "    }\n",
              "    80% {\n",
              "      border-color: transparent;\n",
              "      border-right-color: var(--fill-color);\n",
              "      border-bottom-color: var(--fill-color);\n",
              "    }\n",
              "    90% {\n",
              "      border-color: transparent;\n",
              "      border-bottom-color: var(--fill-color);\n",
              "    }\n",
              "  }\n",
              "</style>\n",
              "\n",
              "  <script>\n",
              "    async function quickchart(key) {\n",
              "      const quickchartButtonEl =\n",
              "        document.querySelector('#' + key + ' button');\n",
              "      quickchartButtonEl.disabled = true;  // To prevent multiple clicks.\n",
              "      quickchartButtonEl.classList.add('colab-df-spinner');\n",
              "      try {\n",
              "        const charts = await google.colab.kernel.invokeFunction(\n",
              "            'suggestCharts', [key], {});\n",
              "      } catch (error) {\n",
              "        console.error('Error during call to suggestCharts:', error);\n",
              "      }\n",
              "      quickchartButtonEl.classList.remove('colab-df-spinner');\n",
              "      quickchartButtonEl.classList.add('colab-df-quickchart-complete');\n",
              "    }\n",
              "    (() => {\n",
              "      let quickchartButtonEl =\n",
              "        document.querySelector('#df-b5d1f805-c85d-4e46-8dbf-907d88e855f8 button');\n",
              "      quickchartButtonEl.style.display =\n",
              "        google.colab.kernel.accessAllowed ? 'block' : 'none';\n",
              "    })();\n",
              "  </script>\n",
              "</div>\n",
              "\n",
              "    </div>\n",
              "  </div>\n"
            ],
            "application/vnd.google.colaboratory.intrinsic+json": {
              "type": "dataframe",
              "summary": "{\n  \"name\": \"df2\",\n  \"rows\": 8,\n  \"fields\": [\n    {\n      \"column\": \"Length\",\n      \"properties\": {\n        \"dtype\": \"number\",\n        \"std\": 0.13940128467841487,\n        \"min\": 0.5567195769296182,\n        \"max\": 1.0,\n        \"num_unique_values\": 8,\n        \"samples\": [\n          0.9868115846025,\n          0.9030176990077563,\n          1.0\n        ],\n        \"semantic_type\": \"\",\n        \"description\": \"\"\n      }\n    },\n    {\n      \"column\": \"Diameter\",\n      \"properties\": {\n        \"dtype\": \"number\",\n        \"std\": 0.13330966293886765,\n        \"min\": 0.5746598513059198,\n        \"max\": 1.0,\n        \"num_unique_values\": 8,\n        \"samples\": [\n          1.0,\n          0.8997244291071196,\n          0.9868115846025\n        ],\n        \"semantic_type\": \"\",\n        \"description\": \"\"\n      }\n    },\n    {\n      \"column\": \"Height\",\n      \"properties\": {\n        \"dtype\": \"number\",\n        \"std\": 0.12066081336406509,\n        \"min\": 0.5574673244580344,\n        \"max\": 1.0,\n        \"num_unique_values\": 8,\n        \"samples\": [\n          0.8336836879586538,\n          0.79831929752753,\n          0.8275536093192142\n        ],\n        \"semantic_type\": \"\",\n        \"description\": \"\"\n      }\n    },\n    {\n      \"column\": \"Whole weight\",\n      \"properties\": {\n        \"dtype\": \"number\",\n        \"std\": 0.15033487566046339,\n        \"min\": 0.5403896769238992,\n        \"max\": 1.0,\n        \"num_unique_values\": 8,\n        \"samples\": [\n          0.9254521015071313,\n          0.9663750782730317,\n          0.9252611721489467\n        ],\n        \"semantic_type\": \"\",\n        \"description\": \"\"\n      }\n    },\n    {\n      \"column\": \"Shucked weight\",\n      \"properties\": {\n        \"dtype\": \"number\",\n        \"std\": 0.1845311310483963,\n        \"min\": 0.4208836579452148,\n        \"max\": 1.0,\n        \"num_unique_values\": 8,\n        \"samples\": [\n          0.8931624751432796,\n          0.9319613217425567,\n          0.8979136582496655\n        ],\n        \"semantic_type\": \"\",\n        \"description\": \"\"\n      }\n    },\n    {\n      \"column\": \"Viscera weight\",\n      \"properties\": {\n        \"dtype\": \"number\",\n        \"std\": 0.15690937215862114,\n        \"min\": 0.5038192487597698,\n        \"max\": 1.0,\n        \"num_unique_values\": 8,\n        \"samples\": [\n          0.8997244291071196,\n          1.0,\n          0.9030176990077563\n        ],\n        \"semantic_type\": \"\",\n        \"description\": \"\"\n      }\n    },\n    {\n      \"column\": \"Shell weight\",\n      \"properties\": {\n        \"dtype\": \"number\",\n        \"std\": 0.11287239342035375,\n        \"min\": 0.6275740445103175,\n        \"max\": 1.0,\n        \"num_unique_values\": 8,\n        \"samples\": [\n          0.905329781213082,\n          0.9076563206965705,\n          0.8977055691879205\n        ],\n        \"semantic_type\": \"\",\n        \"description\": \"\"\n      }\n    },\n    {\n      \"column\": \"Rings\",\n      \"properties\": {\n        \"dtype\": \"number\",\n        \"std\": 0.17317569390148843,\n        \"min\": 0.4208836579452148,\n        \"max\": 1.0,\n        \"num_unique_values\": 8,\n        \"samples\": [\n          0.5746598513059198,\n          0.5038192487597698,\n          0.5567195769296182\n        ],\n        \"semantic_type\": \"\",\n        \"description\": \"\"\n      }\n    }\n  ]\n}"
            }
          },
          "metadata": {},
          "execution_count": 63
        }
      ]
    },
    {
      "cell_type": "code",
      "source": [
        "#피어슨 상관계수, 스피어만 상관계수\n",
        "print( df2['Length'].corr(df2['Diameter'], method='pearson')  )\n",
        "print( df2['Length'].corr(df2['Diameter'], method='spearman')  )"
      ],
      "metadata": {
        "colab": {
          "base_uri": "https://localhost:8080/"
        },
        "id": "gJ_IqYzuixaS",
        "outputId": "68ec8f8d-bb17-4600-a389-8fe253bdfa97"
      },
      "execution_count": null,
      "outputs": [
        {
          "output_type": "stream",
          "name": "stdout",
          "text": [
            "0.9868115846024929\n",
            "0.9833190319559632\n"
          ]
        }
      ]
    },
    {
      "cell_type": "code",
      "source": [
        "# 데이터 간의 상관관계를 그래프로\n",
        "import seaborn as sns\n",
        "colormap = plt.cm.gist_heat   #그래프의 색상 구성\n",
        "plt.figure(figsize=(5,5))   #그래프의 크기\n",
        "\n",
        "# 그래프의 속성을 결정. vmax의 값을 1로 지정해 1에 가까울 수록 밝은 색으로 표시되게 함\n",
        "sns.heatmap(df2.corr(),linewidths=0.1,vmax=1, cmap=colormap, linecolor='white', annot=True)\n",
        "plt.show()"
      ],
      "metadata": {
        "colab": {
          "base_uri": "https://localhost:8080/",
          "height": 547
        },
        "id": "a_6loAJ84stE",
        "outputId": "c481eda6-a526-49e4-9456-de8bc1456dde"
      },
      "execution_count": null,
      "outputs": [
        {
          "output_type": "display_data",
          "data": {
            "text/plain": [
              "<Figure size 500x500 with 2 Axes>"
            ],
            "image/png": "[encoded data removed]"
          },
          "metadata": {}
        }
      ]
    },
    {
      "cell_type": "markdown",
      "source": [
        "# 단순 선형회귀 실습\n",
        "- 다양한 변수를 이용해서 순살 무게를 예측해보자!\n",
        "- https://blog.naver.com/bce5180/222647224373"
      ],
      "metadata": {
        "id": "eN0jXN8f7cvJ"
      }
    },
    {
      "cell_type": "code",
      "source": [
        "from sklearn.model_selection import train_test_split\n",
        "from sklearn.linear_model import LinearRegression\n",
        "from sklearn.metrics import mean_squared_error, r2_score\n",
        "import numpy as np\n",
        "import pandas as pd"
      ],
      "metadata": {
        "id": "VQzCfWa08s_E"
      },
      "execution_count": null,
      "outputs": []
    },
    {
      "cell_type": "code",
      "source": [
        "#데이터프레임 칼럼\n",
        "df2.columns"
      ],
      "metadata": {
        "colab": {
          "base_uri": "https://localhost:8080/"
        },
        "id": "898ItZ_pkZh5",
        "outputId": "d211df72-83ee-4ea0-dc14-77b1f52bdc16"
      },
      "execution_count": null,
      "outputs": [
        {
          "output_type": "execute_result",
          "data": {
            "text/plain": [
              "Index(['Length', 'Diameter', 'Height', 'Whole weight', 'Shucked weight',\n",
              "       'Viscera weight', 'Shell weight', 'Rings'],\n",
              "      dtype='object')"
            ]
          },
          "metadata": {},
          "execution_count": 67
        }
      ]
    },
    {
      "cell_type": "code",
      "source": [
        "#단순선형회귀\n",
        "#독립변수(전체무게), 종속변수(순살무게) 데이터셋 준비\n",
        "X=df2['Whole weight']\n",
        "Y=df2['Shucked weight']"
      ],
      "metadata": {
        "id": "hk0J2utrk-Dn"
      },
      "execution_count": null,
      "outputs": []
    },
    {
      "cell_type": "code",
      "source": [
        "#데이터셋 나누기\n",
        "#test_size=0.3 -> 훈련데이터 70%, 테스트데이터 30%\n",
        "#random_state  ->데이터셋을 나눌 때 항상 같은 간격으로 나누어 줌\n",
        "X_train, X_test, Y_train, Y_test = train_test_split(X, Y, test_size=0.3, random_state=42)"
      ],
      "metadata": {
        "id": "beEML7AQlSDZ"
      },
      "execution_count": null,
      "outputs": []
    },
    {
      "cell_type": "code",
      "source": [
        "#차원변경\n",
        "X_train=X_train.to_numpy().reshape(-1,1)\n",
        "X_test=X_test.to_numpy().reshape(-1,1)\n",
        "Y_train=Y_train.to_numpy().reshape(-1,1)\n",
        "Y_test=Y_test.to_numpy().reshape(-1,1)"
      ],
      "metadata": {
        "id": "nbMnULodlZjh"
      },
      "execution_count": null,
      "outputs": []
    },
    {
      "cell_type": "code",
      "source": [
        "#훈련데이터 갯수 확인: 4177*0.7=2923\n",
        "X_train.shape, Y_train.shape"
      ],
      "metadata": {
        "colab": {
          "base_uri": "https://localhost:8080/"
        },
        "id": "Zr4zbNpumOgY",
        "outputId": "18daaa6a-8dd2-48b3-ead2-17ba732b945c"
      },
      "execution_count": null,
      "outputs": [
        {
          "output_type": "execute_result",
          "data": {
            "text/plain": [
              "((2923, 1), (2923, 1))"
            ]
          },
          "metadata": {},
          "execution_count": 71
        }
      ]
    },
    {
      "cell_type": "code",
      "source": [
        "#선형회귀 모델 객체 선언\n",
        "model=LinearRegression()\n",
        "#훈련데이터로 모델 학습\n",
        "model.fit(X_train, Y_train)\n",
        "#테스트데이터 예측해보기\n",
        "y_predict=model.predict(X_test)\n",
        "y_predict"
      ],
      "metadata": {
        "colab": {
          "base_uri": "https://localhost:8080/"
        },
        "id": "iTQDlayilc6k",
        "outputId": "0a99424f-dfa0-4e3b-c11e-c2606f1b03ef"
      },
      "execution_count": null,
      "outputs": [
        {
          "output_type": "execute_result",
          "data": {
            "text/plain": [
              "array([[0.48078691],\n",
              "       [0.37893147],\n",
              "       [0.42677266],\n",
              "       ...,\n",
              "       [0.33572007],\n",
              "       [0.6529711 ],\n",
              "       [0.13730039]])"
            ]
          },
          "metadata": {},
          "execution_count": 72
        }
      ]
    },
    {
      "cell_type": "code",
      "source": [
        "#mse 확인\n",
        "mean_squared_error(Y_test,y_predict)"
      ],
      "metadata": {
        "colab": {
          "base_uri": "https://localhost:8080/"
        },
        "id": "qLJ-OwCLm7Cv",
        "outputId": "96e4f339-3bc3-4a9f-9f69-18308b479946"
      },
      "execution_count": null,
      "outputs": [
        {
          "output_type": "execute_result",
          "data": {
            "text/plain": [
              "0.003159840571393022"
            ]
          },
          "metadata": {},
          "execution_count": 73
        }
      ]
    },
    {
      "cell_type": "code",
      "source": [
        "#모델 점수 확인\n",
        "model.score(X_test,Y_test)"
      ],
      "metadata": {
        "id": "wdFw-VGGt5dQ",
        "colab": {
          "base_uri": "https://localhost:8080/"
        },
        "outputId": "8778ce45-5453-466a-e3b1-230297974247"
      },
      "execution_count": null,
      "outputs": [
        {
          "output_type": "execute_result",
          "data": {
            "text/plain": [
              "0.9335320827844025"
            ]
          },
          "metadata": {},
          "execution_count": 74
        }
      ]
    },
    {
      "cell_type": "code",
      "source": [
        "#가중치와 절편 확인\n",
        "print(model.coef_)\n",
        "print(model.intercept_)"
      ],
      "metadata": {
        "colab": {
          "base_uri": "https://localhost:8080/"
        },
        "id": "-PNnRaJknChy",
        "outputId": "9724c346-d61a-46a2-9dae-4ae785d73b84"
      },
      "execution_count": null,
      "outputs": [
        {
          "output_type": "stream",
          "name": "stdout",
          "text": [
            "[[0.44093262]]\n",
            "[-0.00578224]\n"
          ]
        }
      ]
    },
    {
      "cell_type": "code",
      "source": [
        "#전체무게가 0.5키로인 전복의 순살 무게는 얼마일까?\n",
        "model.predict([[0.5]])"
      ],
      "metadata": {
        "colab": {
          "base_uri": "https://localhost:8080/"
        },
        "id": "dEu9Ok7OnO_u",
        "outputId": "1a26e340-668b-4e3e-e6b3-9e6377404d31"
      },
      "execution_count": null,
      "outputs": [
        {
          "output_type": "execute_result",
          "data": {
            "text/plain": [
              "array([[0.21468407]])"
            ]
          },
          "metadata": {},
          "execution_count": 76
        }
      ]
    },
    {
      "cell_type": "markdown",
      "source": [
        "# 다중선형회귀 실습"
      ],
      "metadata": {
        "id": "r4tGwUxVnmGc"
      }
    },
    {
      "cell_type": "code",
      "source": [
        "#독립변수(전체무게, 길이, 껍데기무게), 종속변수(순살무게) 데이터셋 준비\n",
        "X2=df2[['Whole weight', 'Length', 'Shell weight']]\n",
        "Y2=df2['Shucked weight']"
      ],
      "metadata": {
        "id": "aEKankmhnpUE"
      },
      "execution_count": null,
      "outputs": []
    },
    {
      "cell_type": "code",
      "source": [
        "#데이터셋 나누기\n",
        "#test_size=0.3 -> 훈련데이터 70%, 테스트데이터 30%\n",
        "#random_state  ->데이터셋을 나눌 때 항상 같은 간격으로 나누어 줌\n",
        "X2_train, X2_test, Y2_train, Y2_test = train_test_split(X2,Y2,test_size=0.3,random_state=42)"
      ],
      "metadata": {
        "id": "CRG-XCJDoCmm"
      },
      "execution_count": null,
      "outputs": []
    },
    {
      "cell_type": "code",
      "source": [
        "#차원변경\n",
        "Y2_train=Y2_train.to_numpy().reshape(-1,1)\n",
        "Y2_test=Y2_test.to_numpy().reshape(-1,1)"
      ],
      "metadata": {
        "id": "rVDdsN7xoGVi"
      },
      "execution_count": null,
      "outputs": []
    },
    {
      "cell_type": "code",
      "source": [
        "#선형회귀 모델 객체 선언\n",
        "multi_model=LinearRegression()\n",
        "#훈련데이터로 모델 학습\n",
        "multi_model.fit(X2_train, Y2_train)\n",
        "#테스트데이터 예측해보기\n",
        "y2_predict=multi_model.predict(X2_test)\n",
        "y2_predict"
      ],
      "metadata": {
        "colab": {
          "base_uri": "https://localhost:8080/"
        },
        "id": "HvrVoT73ofd3",
        "outputId": "f1db6478-fa12-4505-871e-378aecdb40cd"
      },
      "execution_count": null,
      "outputs": [
        {
          "output_type": "execute_result",
          "data": {
            "text/plain": [
              "array([[0.47336845],\n",
              "       [0.38898864],\n",
              "       [0.38127965],\n",
              "       ...,\n",
              "       [0.37419236],\n",
              "       [0.66598014],\n",
              "       [0.1263284 ]])"
            ]
          },
          "metadata": {},
          "execution_count": 82
        }
      ]
    },
    {
      "cell_type": "code",
      "source": [
        "#훈련데이터 갯수 확인: 4177*0.7=2923\n",
        "X2_train.shape, Y2_train.shape"
      ],
      "metadata": {
        "colab": {
          "base_uri": "https://localhost:8080/"
        },
        "id": "hgpNe26coa81",
        "outputId": "446a419a-3de3-4c44-8c90-1b1a9c8a9510"
      },
      "execution_count": null,
      "outputs": [
        {
          "output_type": "execute_result",
          "data": {
            "text/plain": [
              "((2923, 3), (2923, 1))"
            ]
          },
          "metadata": {},
          "execution_count": 81
        }
      ]
    },
    {
      "cell_type": "code",
      "source": [
        "#mse 확인\n",
        "mean_squared_error(Y2_test,y_predict)"
      ],
      "metadata": {
        "colab": {
          "base_uri": "https://localhost:8080/"
        },
        "id": "F73qkXyWo9-e",
        "outputId": "3de813bc-3f2d-4118-e344-5c1179d53c0a"
      },
      "execution_count": null,
      "outputs": [
        {
          "output_type": "execute_result",
          "data": {
            "text/plain": [
              "0.003159840571393022"
            ]
          },
          "metadata": {},
          "execution_count": 83
        }
      ]
    },
    {
      "cell_type": "code",
      "source": [
        "#모델 점수 확인\n",
        "multi_model.score(X2_test, Y2_test)"
      ],
      "metadata": {
        "id": "_IhgfWUhtwzc",
        "colab": {
          "base_uri": "https://localhost:8080/"
        },
        "outputId": "a6f3366f-b7b3-4b22-c7e6-4a78c436c4ea"
      },
      "execution_count": null,
      "outputs": [
        {
          "output_type": "execute_result",
          "data": {
            "text/plain": [
              "0.9510771930740509"
            ]
          },
          "metadata": {},
          "execution_count": 84
        }
      ]
    },
    {
      "cell_type": "code",
      "source": [
        "#전체무게가 0.5키로이고 길이가 0.25, 껍데게 무게가 0.1키로인 전복의 순살 무게는 얼마일까?\n",
        "multi_model.predict([[0.5, 0.25, 0.1]])"
      ],
      "metadata": {
        "colab": {
          "base_uri": "https://localhost:8080/"
        },
        "id": "rDnB8_fYpKSl",
        "outputId": "0a800934-ac1f-4663-9ca5-b51b8c1bb848"
      },
      "execution_count": null,
      "outputs": [
        {
          "output_type": "stream",
          "name": "stderr",
          "text": [
            "/usr/local/lib/python3.10/dist-packages/sklearn/base.py:439: UserWarning: X does not have valid feature names, but LinearRegression was fitted with feature names\n",
            "  warnings.warn(\n"
          ]
        },
        {
          "output_type": "execute_result",
          "data": {
            "text/plain": [
              "array([[0.23875626]])"
            ]
          },
          "metadata": {},
          "execution_count": 85
        }
      ]
    },
    {
      "cell_type": "markdown",
      "source": [
        "# 미션: 독립변수를 달리하여 다중선형회귀 구현하기"
      ],
      "metadata": {
        "id": "hvZm8g9Up5yy"
      }
    },
    {
      "cell_type": "code",
      "source": [
        "X3=df2[['Whole weight', 'Length', 'Rings']]\n",
        "Y3=df2['Shucked weight']"
      ],
      "metadata": {
        "id": "M8ypUtAT_7zq"
      },
      "execution_count": null,
      "outputs": []
    },
    {
      "cell_type": "code",
      "source": [
        "X3_train, X3_test, Y3_train, Y3_test = train_test_split(X3,Y3,test_size=0.3,random_state=42)"
      ],
      "metadata": {
        "id": "s-1fGRdrAQDu"
      },
      "execution_count": null,
      "outputs": []
    },
    {
      "cell_type": "code",
      "source": [
        "Y3_train=Y3_train.to_numpy().reshape(-1,1)\n",
        "Y3_test=Y3_test.to_numpy().reshape(-1,1)"
      ],
      "metadata": {
        "id": "Hd3WesgaAX_W"
      },
      "execution_count": null,
      "outputs": []
    },
    {
      "cell_type": "code",
      "source": [
        "multi_model=LinearRegression()\n",
        "multi_model.fit(X3_train, Y3_train)\n",
        "y3_predict=multi_model.predict(X3_test)\n",
        "y3_predict"
      ],
      "metadata": {
        "colab": {
          "base_uri": "https://localhost:8080/"
        },
        "id": "-EmnYwoIAeaD",
        "outputId": "bcd7e6ba-e7c5-4280-e006-3397f0ffa12c"
      },
      "execution_count": null,
      "outputs": [
        {
          "output_type": "execute_result",
          "data": {
            "text/plain": [
              "array([[0.50333186],\n",
              "       [0.40804034],\n",
              "       [0.36900523],\n",
              "       ...,\n",
              "       [0.36640192],\n",
              "       [0.66731715],\n",
              "       [0.13975045]])"
            ]
          },
          "metadata": {},
          "execution_count": 91
        }
      ]
    },
    {
      "cell_type": "code",
      "source": [
        "X3_train.shape, Y3_train.shape"
      ],
      "metadata": {
        "colab": {
          "base_uri": "https://localhost:8080/"
        },
        "id": "k-exulvPAn5k",
        "outputId": "70252b95-0178-42ec-b4c9-2ae00a1e058b"
      },
      "execution_count": null,
      "outputs": [
        {
          "output_type": "execute_result",
          "data": {
            "text/plain": [
              "((2923, 3), (2923, 1))"
            ]
          },
          "metadata": {},
          "execution_count": 93
        }
      ]
    },
    {
      "cell_type": "code",
      "source": [
        "mean_squared_error(Y3_test,y_predict)"
      ],
      "metadata": {
        "colab": {
          "base_uri": "https://localhost:8080/"
        },
        "id": "1Z7R4m3cAtJ9",
        "outputId": "4d96c901-5187-4af7-b672-b9a91773a71f"
      },
      "execution_count": null,
      "outputs": [
        {
          "output_type": "execute_result",
          "data": {
            "text/plain": [
              "0.003159840571393022"
            ]
          },
          "metadata": {},
          "execution_count": 94
        }
      ]
    },
    {
      "cell_type": "code",
      "source": [
        "multi_model.score(X3_test, Y3_test)"
      ],
      "metadata": {
        "colab": {
          "base_uri": "https://localhost:8080/"
        },
        "id": "FiC7qB7FAwE8",
        "outputId": "dd05cd20-993f-4897-999c-e27ae248bf6b"
      },
      "execution_count": null,
      "outputs": [
        {
          "output_type": "execute_result",
          "data": {
            "text/plain": [
              "0.9478696201714092"
            ]
          },
          "metadata": {},
          "execution_count": 96
        }
      ]
    },
    {
      "cell_type": "code",
      "source": [
        "multi_model.predict([[0.5, 0.25, 0.5]])"
      ],
      "metadata": {
        "colab": {
          "base_uri": "https://localhost:8080/"
        },
        "id": "wb1vxudgAztV",
        "outputId": "51346723-854d-4e43-bb06-4133e45c75a5"
      },
      "execution_count": null,
      "outputs": [
        {
          "output_type": "stream",
          "name": "stderr",
          "text": [
            "/usr/local/lib/python3.10/dist-packages/sklearn/base.py:439: UserWarning: X does not have valid feature names, but LinearRegression was fitted with feature names\n",
            "  warnings.warn(\n"
          ]
        },
        {
          "output_type": "execute_result",
          "data": {
            "text/plain": [
              "array([[0.2771586]])"
            ]
          },
          "metadata": {},
          "execution_count": 97
        }
      ]
    }
  ]
}